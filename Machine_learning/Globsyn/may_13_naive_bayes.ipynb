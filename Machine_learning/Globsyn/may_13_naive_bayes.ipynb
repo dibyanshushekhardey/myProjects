{
  "nbformat": 4,
  "nbformat_minor": 0,
  "metadata": {
    "colab": {
      "name": "may_13_naive_bayes",
      "provenance": []
    },
    "kernelspec": {
      "name": "python3",
      "display_name": "Python 3"
    },
    "language_info": {
      "name": "python"
    }
  },
  "cells": [
    {
      "cell_type": "markdown",
      "source": [
        "## Naive Bayes\n",
        "- used for classification only\n",
        "- can not rank features ( feature selection can not be done)\n",
        "- based weak assumptions "
      ],
      "metadata": {
        "id": "X-eq6_r_8Krq"
      }
    },
    {
      "cell_type": "code",
      "source": [
        "import warnings\n",
        "import pandas as pd\n",
        "import numpy as np\n",
        "import matplotlib.pyplot as plt\n",
        "import seaborn as sns\n",
        "from sklearn import tree\n",
        "from sklearn import ensemble # required for RandomForest\n",
        "from sklearn import naive_bayes # required for naive bayes\n",
        "from sklearn import linear_model\n",
        "from sklearn import model_selection\n",
        "from sklearn import feature_selection # required for RFE\n",
        "from sklearn import preprocessing\n",
        "from sklearn import metrics\n",
        "warnings.filterwarnings('ignore')"
      ],
      "metadata": {
        "id": "cewi2K598Nw-"
      },
      "execution_count": 1,
      "outputs": []
    },
    {
      "cell_type": "code",
      "source": [
        "def printmetrics(actual,predicted):\n",
        "    print('AUC : ',np.round(metrics.roc_auc_score(actual,predicted),4))\n",
        "    print('Accuracy :',np.round(metrics.accuracy_score(actual,predicted),4))\n",
        "    print('Precision : ',np.round(metrics.precision_score(actual,predicted),4))\n",
        "    print('Recall : ',np.round(metrics.recall_score(actual,predicted),4))\n",
        "    print('F1 : ',np.round(metrics.f1_score(actual,predicted),4))"
      ],
      "metadata": {
        "id": "71f-40rR8PHn"
      },
      "execution_count": 2,
      "outputs": []
    },
    {
      "cell_type": "code",
      "source": [
        "iris=pd.read_csv('iris_flowers.csv')\n",
        "iris['type']=(iris['class']=='Iris-virginica').astype(np.int)"
      ],
      "metadata": {
        "id": "MMl0HgnQ8QVm"
      },
      "execution_count": 3,
      "outputs": []
    },
    {
      "cell_type": "code",
      "source": [
        "iris=iris.drop('class',axis=1)\n",
        "X=iris.drop('type',axis=1)\n",
        "y=iris['type']\n",
        "Xtrain,Xtest,ytrain,ytest=model_selection.train_test_split(X,y,test_size=.15,random_state=42)"
      ],
      "metadata": {
        "id": "vb9fyZYO8Siq"
      },
      "execution_count": 4,
      "outputs": []
    },
    {
      "cell_type": "code",
      "source": [
        "Xtest[:2]"
      ],
      "metadata": {
        "colab": {
          "base_uri": "https://localhost:8080/",
          "height": 112
        },
        "id": "lSVQFc7w8T-d",
        "outputId": "02a78e87-016c-4f44-9dc7-aacc2c2c462b"
      },
      "execution_count": 5,
      "outputs": [
        {
          "output_type": "execute_result",
          "data": {
            "text/plain": [
              "    sepallength  sepalwidth  petallength  petalwidth\n",
              "73          5.6         2.5          3.9         1.1\n",
              "18          6.4         2.7          5.3         1.9"
            ],
            "text/html": [
              "\n",
              "  <div id=\"df-d50b99cf-a041-4846-bb15-78fba061efbb\">\n",
              "    <div class=\"colab-df-container\">\n",
              "      <div>\n",
              "<style scoped>\n",
              "    .dataframe tbody tr th:only-of-type {\n",
              "        vertical-align: middle;\n",
              "    }\n",
              "\n",
              "    .dataframe tbody tr th {\n",
              "        vertical-align: top;\n",
              "    }\n",
              "\n",
              "    .dataframe thead th {\n",
              "        text-align: right;\n",
              "    }\n",
              "</style>\n",
              "<table border=\"1\" class=\"dataframe\">\n",
              "  <thead>\n",
              "    <tr style=\"text-align: right;\">\n",
              "      <th></th>\n",
              "      <th>sepallength</th>\n",
              "      <th>sepalwidth</th>\n",
              "      <th>petallength</th>\n",
              "      <th>petalwidth</th>\n",
              "    </tr>\n",
              "  </thead>\n",
              "  <tbody>\n",
              "    <tr>\n",
              "      <th>73</th>\n",
              "      <td>5.6</td>\n",
              "      <td>2.5</td>\n",
              "      <td>3.9</td>\n",
              "      <td>1.1</td>\n",
              "    </tr>\n",
              "    <tr>\n",
              "      <th>18</th>\n",
              "      <td>6.4</td>\n",
              "      <td>2.7</td>\n",
              "      <td>5.3</td>\n",
              "      <td>1.9</td>\n",
              "    </tr>\n",
              "  </tbody>\n",
              "</table>\n",
              "</div>\n",
              "      <button class=\"colab-df-convert\" onclick=\"convertToInteractive('df-d50b99cf-a041-4846-bb15-78fba061efbb')\"\n",
              "              title=\"Convert this dataframe to an interactive table.\"\n",
              "              style=\"display:none;\">\n",
              "        \n",
              "  <svg xmlns=\"http://www.w3.org/2000/svg\" height=\"24px\"viewBox=\"0 0 24 24\"\n",
              "       width=\"24px\">\n",
              "    <path d=\"M0 0h24v24H0V0z\" fill=\"none\"/>\n",
              "    <path d=\"M18.56 5.44l.94 2.06.94-2.06 2.06-.94-2.06-.94-.94-2.06-.94 2.06-2.06.94zm-11 1L8.5 8.5l.94-2.06 2.06-.94-2.06-.94L8.5 2.5l-.94 2.06-2.06.94zm10 10l.94 2.06.94-2.06 2.06-.94-2.06-.94-.94-2.06-.94 2.06-2.06.94z\"/><path d=\"M17.41 7.96l-1.37-1.37c-.4-.4-.92-.59-1.43-.59-.52 0-1.04.2-1.43.59L10.3 9.45l-7.72 7.72c-.78.78-.78 2.05 0 2.83L4 21.41c.39.39.9.59 1.41.59.51 0 1.02-.2 1.41-.59l7.78-7.78 2.81-2.81c.8-.78.8-2.07 0-2.86zM5.41 20L4 18.59l7.72-7.72 1.47 1.35L5.41 20z\"/>\n",
              "  </svg>\n",
              "      </button>\n",
              "      \n",
              "  <style>\n",
              "    .colab-df-container {\n",
              "      display:flex;\n",
              "      flex-wrap:wrap;\n",
              "      gap: 12px;\n",
              "    }\n",
              "\n",
              "    .colab-df-convert {\n",
              "      background-color: #E8F0FE;\n",
              "      border: none;\n",
              "      border-radius: 50%;\n",
              "      cursor: pointer;\n",
              "      display: none;\n",
              "      fill: #1967D2;\n",
              "      height: 32px;\n",
              "      padding: 0 0 0 0;\n",
              "      width: 32px;\n",
              "    }\n",
              "\n",
              "    .colab-df-convert:hover {\n",
              "      background-color: #E2EBFA;\n",
              "      box-shadow: 0px 1px 2px rgba(60, 64, 67, 0.3), 0px 1px 3px 1px rgba(60, 64, 67, 0.15);\n",
              "      fill: #174EA6;\n",
              "    }\n",
              "\n",
              "    [theme=dark] .colab-df-convert {\n",
              "      background-color: #3B4455;\n",
              "      fill: #D2E3FC;\n",
              "    }\n",
              "\n",
              "    [theme=dark] .colab-df-convert:hover {\n",
              "      background-color: #434B5C;\n",
              "      box-shadow: 0px 1px 3px 1px rgba(0, 0, 0, 0.15);\n",
              "      filter: drop-shadow(0px 1px 2px rgba(0, 0, 0, 0.3));\n",
              "      fill: #FFFFFF;\n",
              "    }\n",
              "  </style>\n",
              "\n",
              "      <script>\n",
              "        const buttonEl =\n",
              "          document.querySelector('#df-d50b99cf-a041-4846-bb15-78fba061efbb button.colab-df-convert');\n",
              "        buttonEl.style.display =\n",
              "          google.colab.kernel.accessAllowed ? 'block' : 'none';\n",
              "\n",
              "        async function convertToInteractive(key) {\n",
              "          const element = document.querySelector('#df-d50b99cf-a041-4846-bb15-78fba061efbb');\n",
              "          const dataTable =\n",
              "            await google.colab.kernel.invokeFunction('convertToInteractive',\n",
              "                                                     [key], {});\n",
              "          if (!dataTable) return;\n",
              "\n",
              "          const docLinkHtml = 'Like what you see? Visit the ' +\n",
              "            '<a target=\"_blank\" href=https://colab.research.google.com/notebooks/data_table.ipynb>data table notebook</a>'\n",
              "            + ' to learn more about interactive tables.';\n",
              "          element.innerHTML = '';\n",
              "          dataTable['output_type'] = 'display_data';\n",
              "          await google.colab.output.renderOutput(dataTable, element);\n",
              "          const docLink = document.createElement('div');\n",
              "          docLink.innerHTML = docLinkHtml;\n",
              "          element.appendChild(docLink);\n",
              "        }\n",
              "      </script>\n",
              "    </div>\n",
              "  </div>\n",
              "  "
            ]
          },
          "metadata": {},
          "execution_count": 5
        }
      ]
    },
    {
      "cell_type": "code",
      "source": [
        "iris[:10]"
      ],
      "metadata": {
        "colab": {
          "base_uri": "https://localhost:8080/",
          "height": 363
        },
        "id": "IH4RXE1q8VLA",
        "outputId": "edb13f9c-3ccb-4df4-9c88-a897c615d074"
      },
      "execution_count": 6,
      "outputs": [
        {
          "output_type": "execute_result",
          "data": {
            "text/plain": [
              "   sepallength  sepalwidth  petallength  petalwidth  type\n",
              "0          6.0         2.2          5.0         1.5     1\n",
              "1          5.1         2.5          3.0         1.1     0\n",
              "2          5.0         2.3          3.3         1.0     0\n",
              "3          7.7         3.8          6.7         2.2     1\n",
              "4          5.8         4.0          1.2         0.2     0\n",
              "5          7.9         3.8          6.4         2.0     1\n",
              "6          5.5         2.5          4.0         1.3     0\n",
              "7          6.2         2.9          4.3         1.3     0\n",
              "8          5.5         2.3          4.0         1.3     0\n",
              "9          7.0         3.2          4.7         1.4     0"
            ],
            "text/html": [
              "\n",
              "  <div id=\"df-462a6f47-23f5-442a-8c48-9af3f6ea7beb\">\n",
              "    <div class=\"colab-df-container\">\n",
              "      <div>\n",
              "<style scoped>\n",
              "    .dataframe tbody tr th:only-of-type {\n",
              "        vertical-align: middle;\n",
              "    }\n",
              "\n",
              "    .dataframe tbody tr th {\n",
              "        vertical-align: top;\n",
              "    }\n",
              "\n",
              "    .dataframe thead th {\n",
              "        text-align: right;\n",
              "    }\n",
              "</style>\n",
              "<table border=\"1\" class=\"dataframe\">\n",
              "  <thead>\n",
              "    <tr style=\"text-align: right;\">\n",
              "      <th></th>\n",
              "      <th>sepallength</th>\n",
              "      <th>sepalwidth</th>\n",
              "      <th>petallength</th>\n",
              "      <th>petalwidth</th>\n",
              "      <th>type</th>\n",
              "    </tr>\n",
              "  </thead>\n",
              "  <tbody>\n",
              "    <tr>\n",
              "      <th>0</th>\n",
              "      <td>6.0</td>\n",
              "      <td>2.2</td>\n",
              "      <td>5.0</td>\n",
              "      <td>1.5</td>\n",
              "      <td>1</td>\n",
              "    </tr>\n",
              "    <tr>\n",
              "      <th>1</th>\n",
              "      <td>5.1</td>\n",
              "      <td>2.5</td>\n",
              "      <td>3.0</td>\n",
              "      <td>1.1</td>\n",
              "      <td>0</td>\n",
              "    </tr>\n",
              "    <tr>\n",
              "      <th>2</th>\n",
              "      <td>5.0</td>\n",
              "      <td>2.3</td>\n",
              "      <td>3.3</td>\n",
              "      <td>1.0</td>\n",
              "      <td>0</td>\n",
              "    </tr>\n",
              "    <tr>\n",
              "      <th>3</th>\n",
              "      <td>7.7</td>\n",
              "      <td>3.8</td>\n",
              "      <td>6.7</td>\n",
              "      <td>2.2</td>\n",
              "      <td>1</td>\n",
              "    </tr>\n",
              "    <tr>\n",
              "      <th>4</th>\n",
              "      <td>5.8</td>\n",
              "      <td>4.0</td>\n",
              "      <td>1.2</td>\n",
              "      <td>0.2</td>\n",
              "      <td>0</td>\n",
              "    </tr>\n",
              "    <tr>\n",
              "      <th>5</th>\n",
              "      <td>7.9</td>\n",
              "      <td>3.8</td>\n",
              "      <td>6.4</td>\n",
              "      <td>2.0</td>\n",
              "      <td>1</td>\n",
              "    </tr>\n",
              "    <tr>\n",
              "      <th>6</th>\n",
              "      <td>5.5</td>\n",
              "      <td>2.5</td>\n",
              "      <td>4.0</td>\n",
              "      <td>1.3</td>\n",
              "      <td>0</td>\n",
              "    </tr>\n",
              "    <tr>\n",
              "      <th>7</th>\n",
              "      <td>6.2</td>\n",
              "      <td>2.9</td>\n",
              "      <td>4.3</td>\n",
              "      <td>1.3</td>\n",
              "      <td>0</td>\n",
              "    </tr>\n",
              "    <tr>\n",
              "      <th>8</th>\n",
              "      <td>5.5</td>\n",
              "      <td>2.3</td>\n",
              "      <td>4.0</td>\n",
              "      <td>1.3</td>\n",
              "      <td>0</td>\n",
              "    </tr>\n",
              "    <tr>\n",
              "      <th>9</th>\n",
              "      <td>7.0</td>\n",
              "      <td>3.2</td>\n",
              "      <td>4.7</td>\n",
              "      <td>1.4</td>\n",
              "      <td>0</td>\n",
              "    </tr>\n",
              "  </tbody>\n",
              "</table>\n",
              "</div>\n",
              "      <button class=\"colab-df-convert\" onclick=\"convertToInteractive('df-462a6f47-23f5-442a-8c48-9af3f6ea7beb')\"\n",
              "              title=\"Convert this dataframe to an interactive table.\"\n",
              "              style=\"display:none;\">\n",
              "        \n",
              "  <svg xmlns=\"http://www.w3.org/2000/svg\" height=\"24px\"viewBox=\"0 0 24 24\"\n",
              "       width=\"24px\">\n",
              "    <path d=\"M0 0h24v24H0V0z\" fill=\"none\"/>\n",
              "    <path d=\"M18.56 5.44l.94 2.06.94-2.06 2.06-.94-2.06-.94-.94-2.06-.94 2.06-2.06.94zm-11 1L8.5 8.5l.94-2.06 2.06-.94-2.06-.94L8.5 2.5l-.94 2.06-2.06.94zm10 10l.94 2.06.94-2.06 2.06-.94-2.06-.94-.94-2.06-.94 2.06-2.06.94z\"/><path d=\"M17.41 7.96l-1.37-1.37c-.4-.4-.92-.59-1.43-.59-.52 0-1.04.2-1.43.59L10.3 9.45l-7.72 7.72c-.78.78-.78 2.05 0 2.83L4 21.41c.39.39.9.59 1.41.59.51 0 1.02-.2 1.41-.59l7.78-7.78 2.81-2.81c.8-.78.8-2.07 0-2.86zM5.41 20L4 18.59l7.72-7.72 1.47 1.35L5.41 20z\"/>\n",
              "  </svg>\n",
              "      </button>\n",
              "      \n",
              "  <style>\n",
              "    .colab-df-container {\n",
              "      display:flex;\n",
              "      flex-wrap:wrap;\n",
              "      gap: 12px;\n",
              "    }\n",
              "\n",
              "    .colab-df-convert {\n",
              "      background-color: #E8F0FE;\n",
              "      border: none;\n",
              "      border-radius: 50%;\n",
              "      cursor: pointer;\n",
              "      display: none;\n",
              "      fill: #1967D2;\n",
              "      height: 32px;\n",
              "      padding: 0 0 0 0;\n",
              "      width: 32px;\n",
              "    }\n",
              "\n",
              "    .colab-df-convert:hover {\n",
              "      background-color: #E2EBFA;\n",
              "      box-shadow: 0px 1px 2px rgba(60, 64, 67, 0.3), 0px 1px 3px 1px rgba(60, 64, 67, 0.15);\n",
              "      fill: #174EA6;\n",
              "    }\n",
              "\n",
              "    [theme=dark] .colab-df-convert {\n",
              "      background-color: #3B4455;\n",
              "      fill: #D2E3FC;\n",
              "    }\n",
              "\n",
              "    [theme=dark] .colab-df-convert:hover {\n",
              "      background-color: #434B5C;\n",
              "      box-shadow: 0px 1px 3px 1px rgba(0, 0, 0, 0.15);\n",
              "      filter: drop-shadow(0px 1px 2px rgba(0, 0, 0, 0.3));\n",
              "      fill: #FFFFFF;\n",
              "    }\n",
              "  </style>\n",
              "\n",
              "      <script>\n",
              "        const buttonEl =\n",
              "          document.querySelector('#df-462a6f47-23f5-442a-8c48-9af3f6ea7beb button.colab-df-convert');\n",
              "        buttonEl.style.display =\n",
              "          google.colab.kernel.accessAllowed ? 'block' : 'none';\n",
              "\n",
              "        async function convertToInteractive(key) {\n",
              "          const element = document.querySelector('#df-462a6f47-23f5-442a-8c48-9af3f6ea7beb');\n",
              "          const dataTable =\n",
              "            await google.colab.kernel.invokeFunction('convertToInteractive',\n",
              "                                                     [key], {});\n",
              "          if (!dataTable) return;\n",
              "\n",
              "          const docLinkHtml = 'Like what you see? Visit the ' +\n",
              "            '<a target=\"_blank\" href=https://colab.research.google.com/notebooks/data_table.ipynb>data table notebook</a>'\n",
              "            + ' to learn more about interactive tables.';\n",
              "          element.innerHTML = '';\n",
              "          dataTable['output_type'] = 'display_data';\n",
              "          await google.colab.output.renderOutput(dataTable, element);\n",
              "          const docLink = document.createElement('div');\n",
              "          docLink.innerHTML = docLinkHtml;\n",
              "          element.appendChild(docLink);\n",
              "        }\n",
              "      </script>\n",
              "    </div>\n",
              "  </div>\n",
              "  "
            ]
          },
          "metadata": {},
          "execution_count": 6
        }
      ]
    },
    {
      "cell_type": "code",
      "source": [
        "model=naive_bayes.GaussianNB() # assumes all X columns are continuous\n",
        "#model=naive_bayes.BernoulliNB() # assume all X columns are binary columns( storing 1/0)\n",
        "#model=naive_bayes.MultinomialNB() # will consider all X cols stores count value, heavily used in text analysis\n"
      ],
      "metadata": {
        "id": "kycA-oM68Wu4"
      },
      "execution_count": 7,
      "outputs": []
    },
    {
      "cell_type": "code",
      "source": [
        "model.fit(Xtrain,ytrain) # what is learning ? 1> prior    2> liklihood(here calulated using PDF)\n",
        "# so it is calulating each columns mean and sd"
      ],
      "metadata": {
        "colab": {
          "base_uri": "https://localhost:8080/"
        },
        "id": "lG0KQLzM8dA8",
        "outputId": "ef806f49-4763-44fc-a394-f6c77a8d2188"
      },
      "execution_count": 8,
      "outputs": [
        {
          "output_type": "execute_result",
          "data": {
            "text/plain": [
              "GaussianNB()"
            ]
          },
          "metadata": {},
          "execution_count": 8
        }
      ]
    },
    {
      "cell_type": "code",
      "source": [
        "predtrain=model.predict(Xtrain)\n",
        "predtest=model.predict(Xtest)"
      ],
      "metadata": {
        "id": "MfnQheFu8etZ"
      },
      "execution_count": 9,
      "outputs": []
    },
    {
      "cell_type": "code",
      "source": [
        "printmetrics(ytrain, predtrain)"
      ],
      "metadata": {
        "colab": {
          "base_uri": "https://localhost:8080/"
        },
        "id": "UsbT90je8kyS",
        "outputId": "13f41018-0154-4ad3-afdf-b8e21d927e25"
      },
      "execution_count": 10,
      "outputs": [
        {
          "output_type": "stream",
          "name": "stdout",
          "text": [
            "AUC :  0.929\n",
            "Accuracy : 0.9213\n",
            "Precision :  0.8261\n",
            "Recall :  0.95\n",
            "F1 :  0.8837\n"
          ]
        }
      ]
    },
    {
      "cell_type": "code",
      "source": [
        "printmetrics(ytest, predtest)"
      ],
      "metadata": {
        "colab": {
          "base_uri": "https://localhost:8080/"
        },
        "id": "GXx0uF128nE5",
        "outputId": "78c40ff5-0f77-4cf0-c1ef-4af665c28e45"
      },
      "execution_count": 11,
      "outputs": [
        {
          "output_type": "stream",
          "name": "stdout",
          "text": [
            "AUC :  0.9231\n",
            "Accuracy : 0.913\n",
            "Precision :  0.8333\n",
            "Recall :  1.0\n",
            "F1 :  0.9091\n"
          ]
        }
      ]
    },
    {
      "cell_type": "code",
      "source": [
        "df=pd.read_csv('loan_data_set.csv')\n",
        "df=df.drop('Loan_ID',axis=1)\n",
        "df=df.dropna()\n",
        "\n",
        "newcols=['gender','married','dependents','edu','selfemp','appinc','coappinc','amnt','term','chistory','proparea','status']\n",
        "df.columns=newcols\n",
        "df['status']=df['status'].replace({'Y':1,'N':0})\n",
        "X=df.drop('status',axis=1)\n",
        "y=df['status']\n",
        "\n",
        "X['gender']=X['gender'].replace({'Male':1,'Female':0})\n",
        "X['married']=X['married'].replace({'Yes':1,'No':0})\n",
        "X['dependents']=X['dependents'].replace({'3+':3})\n",
        "X['dependents']=X['dependents'].astype(np.int)\n",
        "X['edu']=X['edu'].replace({'Graduate':1,'Not Graduate':2})\n",
        "X['selfemp']=X['selfemp'].replace({'Yes':1,'No':0})\n",
        "X['proparea']=X['proparea'].replace({'Rural':1,'Urban':2,'Semiurban':3})\n",
        "\n",
        "Xtrain,Xtest,ytrain,ytest=model_selection.train_test_split(X,y,test_size=.15,random_state=42)"
      ],
      "metadata": {
        "id": "wp1jDW1h8rV1"
      },
      "execution_count": 12,
      "outputs": []
    },
    {
      "cell_type": "code",
      "source": [
        "model=naive_bayes.GaussianNB()\n",
        "model.fit(Xtrain,ytrain)\n",
        "predtrain=model.predict(Xtrain)\n",
        "predtest=model.predict(Xtest)"
      ],
      "metadata": {
        "id": "B3jJdyxi8zSF"
      },
      "execution_count": 13,
      "outputs": []
    },
    {
      "cell_type": "code",
      "source": [
        "printmetrics(ytrain,predtrain)"
      ],
      "metadata": {
        "colab": {
          "base_uri": "https://localhost:8080/"
        },
        "id": "vR6UzyqH808G",
        "outputId": "d26239c1-1f16-47d0-e161-22bd026e9514"
      },
      "execution_count": 14,
      "outputs": [
        {
          "output_type": "stream",
          "name": "stdout",
          "text": [
            "AUC :  0.7046\n",
            "Accuracy : 0.7892\n",
            "Precision :  0.7982\n",
            "Recall :  0.9288\n",
            "F1 :  0.8586\n"
          ]
        }
      ]
    },
    {
      "cell_type": "code",
      "source": [
        "printmetrics(ytest,predtest)"
      ],
      "metadata": {
        "colab": {
          "base_uri": "https://localhost:8080/"
        },
        "id": "NFG9bGB881_-",
        "outputId": "585df955-ef5a-4e0b-8333-e7a68651b7ac"
      },
      "execution_count": 15,
      "outputs": [
        {
          "output_type": "stream",
          "name": "stdout",
          "text": [
            "AUC :  0.7521\n",
            "Accuracy : 0.8472\n",
            "Precision :  0.8333\n",
            "Recall :  0.9804\n",
            "F1 :  0.9009\n"
          ]
        }
      ]
    },
    {
      "cell_type": "code",
      "source": [
        "model=naive_bayes.BernoulliNB()\n",
        "model.fit(Xtrain,ytrain)\n",
        "predtrain=model.predict(Xtrain)\n",
        "predtest=model.predict(Xtest)"
      ],
      "metadata": {
        "id": "MaQECGMS83LK"
      },
      "execution_count": 16,
      "outputs": []
    },
    {
      "cell_type": "code",
      "source": [
        "printmetrics(ytrain,predtrain)"
      ],
      "metadata": {
        "colab": {
          "base_uri": "https://localhost:8080/"
        },
        "id": "pTxyHKeg89fN",
        "outputId": "4e02d2c2-4585-4c08-8ac0-968e03428eab"
      },
      "execution_count": 17,
      "outputs": [
        {
          "output_type": "stream",
          "name": "stdout",
          "text": [
            "AUC :  0.6962\n",
            "Accuracy : 0.8015\n",
            "Precision :  0.7874\n",
            "Recall :  0.9751\n",
            "F1 :  0.8712\n"
          ]
        }
      ]
    },
    {
      "cell_type": "code",
      "source": [
        "printmetrics(ytest,predtest)"
      ],
      "metadata": {
        "colab": {
          "base_uri": "https://localhost:8080/"
        },
        "id": "vCQnxee48_Qq",
        "outputId": "ba1cd7b6-1db0-4e0e-c7cb-10a78d093fa1"
      },
      "execution_count": 18,
      "outputs": [
        {
          "output_type": "stream",
          "name": "stdout",
          "text": [
            "AUC :  0.7381\n",
            "Accuracy : 0.8472\n",
            "Precision :  0.8226\n",
            "Recall :  1.0\n",
            "F1 :  0.9027\n"
          ]
        }
      ]
    },
    {
      "cell_type": "code",
      "source": [
        "model=naive_bayes.MultinomialNB()\n",
        "model.fit(Xtrain,ytrain)\n",
        "predtrain=model.predict(Xtrain)\n",
        "predtest=model.predict(Xtest)"
      ],
      "metadata": {
        "id": "ewPzJikX9BSR"
      },
      "execution_count": 19,
      "outputs": []
    },
    {
      "cell_type": "code",
      "source": [
        "printmetrics(ytrain,predtrain)"
      ],
      "metadata": {
        "id": "I-l_95RU9GJO",
        "outputId": "c7b59d98-b723-442f-86ee-b5b72cee8ae6",
        "colab": {
          "base_uri": "https://localhost:8080/"
        }
      },
      "execution_count": 20,
      "outputs": [
        {
          "output_type": "stream",
          "name": "stdout",
          "text": [
            "AUC :  0.4824\n",
            "Accuracy : 0.4951\n",
            "Precision :  0.6744\n",
            "Recall :  0.516\n",
            "F1 :  0.5847\n"
          ]
        }
      ]
    },
    {
      "cell_type": "code",
      "source": [
        "printmetrics(ytest,predtest)"
      ],
      "metadata": {
        "id": "NcrAHyUh9HVO",
        "outputId": "3ab83b09-595a-4908-860d-128c5fbe3f5f",
        "colab": {
          "base_uri": "https://localhost:8080/"
        }
      },
      "execution_count": 21,
      "outputs": [
        {
          "output_type": "stream",
          "name": "stdout",
          "text": [
            "AUC :  0.4454\n",
            "Accuracy : 0.4722\n",
            "Precision :  0.6667\n",
            "Recall :  0.5098\n",
            "F1 :  0.5778\n"
          ]
        }
      ]
    },
    {
      "cell_type": "code",
      "source": [
        ""
      ],
      "metadata": {
        "id": "CMumZAYk9Jid"
      },
      "execution_count": null,
      "outputs": []
    }
  ]
}