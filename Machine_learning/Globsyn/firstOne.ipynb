{
 "cells": [
  {
   "cell_type": "code",
   "execution_count": 4,
   "metadata": {},
   "outputs": [
    {
     "name": "stdout",
     "output_type": "stream",
     "text": [
      "hello notebook\n",
      "kgec\n"
     ]
    }
   ],
   "source": [
    "print(\"hello notebook\")\n",
    "print(\"kgec\")"
   ]
  },
  {
   "cell_type": "code",
   "execution_count": 5,
   "metadata": {},
   "outputs": [],
   "source": [
    "#this is a python code "
   ]
  },
  {
   "cell_type": "markdown",
   "metadata": {},
   "source": [
    "print(\"This is a notebook\")"
   ]
  },
  {
   "cell_type": "markdown",
   "metadata": {},
   "source": [
    "# python block of code"
   ]
  },
  {
   "cell_type": "code",
   "execution_count": 6,
   "metadata": {},
   "outputs": [
    {
     "name": "stdout",
     "output_type": "stream",
     "text": [
      "Enter marks: 25\n"
     ]
    }
   ],
   "source": [
    "marks = input(\"Enter marks: \") # this is scanf"
   ]
  },
  {
   "cell_type": "code",
   "execution_count": 7,
   "metadata": {},
   "outputs": [
    {
     "data": {
      "text/plain": [
       "'25'"
      ]
     },
     "execution_count": 7,
     "metadata": {},
     "output_type": "execute_result"
    }
   ],
   "source": [
    "marks"
   ]
  },
  {
   "cell_type": "code",
   "execution_count": 12,
   "metadata": {},
   "outputs": [
    {
     "name": "stdout",
     "output_type": "stream",
     "text": [
      "Enter marks: 25\n",
      "Not upto the mark\n",
      "Try better\n"
     ]
    }
   ],
   "source": [
    "marks = int(input(\"Enter marks: \")) # this is scanf\n",
    "if marks > 70:\n",
    "    print(\"done good\")\n",
    "    print(\"make it better\")\n",
    "else:\n",
    "    print(\"Not upto the mark\")\n",
    "    print(\"Try better\")"
   ]
  },
  {
   "cell_type": "code",
   "execution_count": 13,
   "metadata": {},
   "outputs": [
    {
     "data": {
      "text/plain": [
       "25"
      ]
     },
     "execution_count": 13,
     "metadata": {},
     "output_type": "execute_result"
    }
   ],
   "source": [
    "marks"
   ]
  },
  {
   "cell_type": "markdown",
   "metadata": {},
   "source": [
    "## example of nested list"
   ]
  },
  {
   "cell_type": "code",
   "execution_count": 14,
   "metadata": {},
   "outputs": [
    {
     "name": "stdout",
     "output_type": "stream",
     "text": [
      "Enter marks: 25\n",
      "U RE PATHETIC!!!\n"
     ]
    }
   ],
   "source": [
    "marks = int(input(\"Enter marks: \")) # this is scanf\n",
    "if marks > 70:\n",
    "    print(\"done good\")\n",
    "    print(\"make it better\")\n",
    "else:\n",
    "    if marks > 50:\n",
    "        print(\"Not upto the mark\")\n",
    "        print(\"Try better\")\n",
    "    else:\n",
    "        if marks > 30:\n",
    "            print(\"not good!!!\")\n",
    "            print(\"try very hard\")\n",
    "        else:\n",
    "            print(\"U RE PATHETIC!!!\")"
   ]
  },
  {
   "cell_type": "markdown",
   "metadata": {},
   "source": [
    "## python doesn't have switch case"
   ]
  },
  {
   "cell_type": "code",
   "execution_count": 15,
   "metadata": {},
   "outputs": [
    {
     "name": "stdout",
     "output_type": "stream",
     "text": [
      "Enter marks: 25\n",
      "U RE PATHETIC!!!\n"
     ]
    }
   ],
   "source": [
    "marks = int(input(\"Enter marks: \")) # this is scanf\n",
    "if marks > 70:\n",
    "    print(\"done good\")\n",
    "    print(\"make it better\")\n",
    "elif marks > 50:\n",
    "    print(\"Not upto the mark\")\n",
    "    print(\"Try better\")\n",
    "elif marks > 30:\n",
    "    print(\"not good!!!\")\n",
    "    print(\"try very hard\")\n",
    "else:\n",
    "    print(\"U RE PATHETIC!!!\")"
   ]
  },
  {
   "cell_type": "code",
   "execution_count": 17,
   "metadata": {},
   "outputs": [
    {
     "name": "stdout",
     "output_type": "stream",
     "text": [
      "enter lang code: c\n",
      "C language\n"
     ]
    }
   ],
   "source": [
    "lang = input(\"enter lang code: \")\n",
    "if lang == \"c\":\n",
    "    print(\"C language\")\n",
    "elif lang == \"j\":\n",
    "    print(\"Java\")\n",
    "elif lang == \"p\":\n",
    "    print(\"Python\")\n",
    "elif lang == \"r\":\n",
    "    print(\"Ruby\")"
   ]
  },
  {
   "cell_type": "markdown",
   "metadata": {},
   "source": [
    "## python ternary operator / conditional if"
   ]
  },
  {
   "cell_type": "code",
   "execution_count": 18,
   "metadata": {},
   "outputs": [
    {
     "name": "stdout",
     "output_type": "stream",
     "text": [
      "Enter marks: 50\n",
      "pass\n"
     ]
    }
   ],
   "source": [
    "marks = int(input(\"Enter marks: \"))\n",
    "status = \"pass\" if marks >= 50 else \"fail\"\n",
    "print(status)"
   ]
  },
  {
   "cell_type": "code",
   "execution_count": 19,
   "metadata": {},
   "outputs": [
    {
     "name": "stdout",
     "output_type": "stream",
     "text": [
      "Enter marks: 56\n",
      "fair\n"
     ]
    }
   ],
   "source": [
    "marks = int(input(\"Enter marks: \"))\n",
    "status = \"excellent\" if marks >= 80 else \"fair\" if marks >= 50 else \"fail\"\n",
    "print(status)"
   ]
  },
  {
   "cell_type": "markdown",
   "metadata": {},
   "source": [
    "## Python loops\n",
    "- while\n",
    "- for"
   ]
  },
  {
   "cell_type": "code",
   "execution_count": 21,
   "metadata": {},
   "outputs": [
    {
     "name": "stdout",
     "output_type": "stream",
     "text": [
      "NO:  0\n",
      "NO:  1\n",
      "NO:  2\n",
      "NO:  3\n",
      "NO:  4\n"
     ]
    }
   ],
   "source": [
    "no = 0\n",
    "while no < 5:\n",
    "    print('NO: ', no)\n",
    "    no += 1 #increments o"
   ]
  },
  {
   "cell_type": "markdown",
   "metadata": {},
   "source": [
    "## python for loop works with \"generator\" / \"iterator\" object only"
   ]
  },
  {
   "cell_type": "code",
   "execution_count": 22,
   "metadata": {},
   "outputs": [],
   "source": [
    "obj = range(5) #range(5) lloks like funtion call, but actually it is not!!!"
   ]
  },
  {
   "cell_type": "code",
   "execution_count": 23,
   "metadata": {},
   "outputs": [
    {
     "data": {
      "text/plain": [
       "range"
      ]
     },
     "execution_count": 23,
     "metadata": {},
     "output_type": "execute_result"
    }
   ],
   "source": [
    "type(obj)"
   ]
  },
  {
   "cell_type": "markdown",
   "metadata": {},
   "source": [
    "## range object generates a sequence of values ..  here starting from 0 to 4 --> range(5)"
   ]
  },
  {
   "cell_type": "code",
   "execution_count": 24,
   "metadata": {},
   "outputs": [
    {
     "name": "stdout",
     "output_type": "stream",
     "text": [
      "Value:  0\n",
      "Value:  1\n",
      "Value:  2\n",
      "Value:  3\n",
      "Value:  4\n"
     ]
    }
   ],
   "source": [
    "for var in obj:\n",
    "    print(\"Value: \", var)"
   ]
  },
  {
   "cell_type": "code",
   "execution_count": 25,
   "metadata": {},
   "outputs": [
    {
     "name": "stdout",
     "output_type": "stream",
     "text": [
      "Value:  0\n",
      "Value:  1\n",
      "Value:  2\n",
      "Value:  3\n",
      "Value:  4\n"
     ]
    }
   ],
   "source": [
    "for var in range(5):\n",
    "    print(\"Value: \", var)"
   ]
  },
  {
   "cell_type": "code",
   "execution_count": 26,
   "metadata": {},
   "outputs": [
    {
     "name": "stdout",
     "output_type": "stream",
     "text": [
      "VALUE:  10\n",
      "VALUE:  11\n",
      "VALUE:  12\n",
      "VALUE:  13\n",
      "VALUE:  14\n",
      "VALUE:  15\n",
      "VALUE:  16\n",
      "VALUE:  17\n",
      "VALUE:  18\n",
      "VALUE:  19\n"
     ]
    }
   ],
   "source": [
    "for var in range(10,20):\n",
    "    print(\"VALUE: \", var)"
   ]
  },
  {
   "cell_type": "code",
   "execution_count": 27,
   "metadata": {},
   "outputs": [
    {
     "name": "stdout",
     "output_type": "stream",
     "text": [
      "VALUE:  0\n",
      "VALUE:  2\n",
      "VALUE:  4\n",
      "VALUE:  6\n",
      "VALUE:  8\n",
      "VALUE:  10\n",
      "VALUE:  12\n",
      "VALUE:  14\n",
      "VALUE:  16\n",
      "VALUE:  18\n"
     ]
    }
   ],
   "source": [
    "for i in range(0, 20, 2):\n",
    "    print(\"VALUE: \", i)"
   ]
  },
  {
   "cell_type": "code",
   "execution_count": 29,
   "metadata": {},
   "outputs": [
    {
     "name": "stdout",
     "output_type": "stream",
     "text": [
      "VALUE:  0VALUE:  2VALUE:  4VALUE:  6VALUE:  8VALUE:  10VALUE:  12VALUE:  14VALUE:  16VALUE:  18"
     ]
    }
   ],
   "source": [
    "for i in range(0, 20, 2):\n",
    "    print(\"VALUE: \", i, end=\"\")"
   ]
  },
  {
   "cell_type": "code",
   "execution_count": 30,
   "metadata": {},
   "outputs": [
    {
     "name": "stdout",
     "output_type": "stream",
     "text": [
      "VALUE:  0\n",
      "VALUE:  2\n",
      "VALUE:  4\n",
      "VALUE:  6\n",
      "VALUE:  8\n",
      "VALUE:  10\n",
      "VALUE:  12\n",
      "VALUE:  14\n",
      "VALUE:  16\n",
      "VALUE:  18\n"
     ]
    }
   ],
   "source": [
    "for i in range(0, 20, 2):\n",
    "    print(\"VALUE: \", i, end=\"\\n\")"
   ]
  },
  {
   "cell_type": "code",
   "execution_count": 31,
   "metadata": {},
   "outputs": [
    {
     "name": "stdout",
     "output_type": "stream",
     "text": [
      "VALUE:  0\n",
      "\n",
      "VALUE:  2\n",
      "\n",
      "VALUE:  4\n",
      "\n",
      "VALUE:  6\n",
      "\n",
      "VALUE:  8\n",
      "\n",
      "VALUE:  10\n",
      "\n",
      "VALUE:  12\n",
      "\n",
      "VALUE:  14\n",
      "\n",
      "VALUE:  16\n",
      "\n",
      "VALUE:  18\n",
      "\n"
     ]
    }
   ],
   "source": [
    "for i in range(0, 20, 2):\n",
    "    print(\"VALUE: \", i, end=\"\\n\\n\")"
   ]
  },
  {
   "cell_type": "markdown",
   "metadata": {},
   "source": [
    "## accept a number from key board and find whether number is prime?"
   ]
  },
  {
   "cell_type": "code",
   "execution_count": 32,
   "metadata": {},
   "outputs": [
    {
     "name": "stdout",
     "output_type": "stream",
     "text": [
      "Enter a value: 13\n",
      "number  13  is prime\n"
     ]
    }
   ],
   "source": [
    "no = int(input(\"Enter a value: \"))\n",
    "flag = True # assuming True --> number is prime, assuming every number is prime\n",
    "for i in range(2, no):\n",
    "    if no % i == 0:\n",
    "        flag == False\n",
    "        break\n",
    "if flag == True:\n",
    "    print(\"number \", no, \" is prime\")\n",
    "else:\n",
    "    print(\"number \"), no, \" is not prime\""
   ]
  },
  {
   "cell_type": "code",
   "execution_count": 33,
   "metadata": {},
   "outputs": [
    {
     "ename": "TypeError",
     "evalue": "'float' object cannot be interpreted as an integer",
     "output_type": "error",
     "traceback": [
      "\u001b[1;31m---------------------------------------------------------------------------\u001b[0m",
      "\u001b[1;31mTypeError\u001b[0m                                 Traceback (most recent call last)",
      "\u001b[1;32m<ipython-input-33-4663050c9726>\u001b[0m in \u001b[0;36m<module>\u001b[1;34m\u001b[0m\n\u001b[1;32m----> 1\u001b[1;33m \u001b[0mobj\u001b[0m \u001b[1;33m=\u001b[0m \u001b[0mrange\u001b[0m\u001b[1;33m(\u001b[0m\u001b[1;36m0.1\u001b[0m\u001b[1;33m,\u001b[0m \u001b[1;36m10\u001b[0m\u001b[1;33m)\u001b[0m\u001b[1;33m\u001b[0m\u001b[1;33m\u001b[0m\u001b[0m\n\u001b[0m",
      "\u001b[1;31mTypeError\u001b[0m: 'float' object cannot be interpreted as an integer"
     ]
    }
   ],
   "source": [
    "obj = range(0.1, 10)"
   ]
  },
  {
   "cell_type": "code",
   "execution_count": 34,
   "metadata": {},
   "outputs": [],
   "source": [
    "obj = range(10, 5)"
   ]
  },
  {
   "cell_type": "code",
   "execution_count": 35,
   "metadata": {},
   "outputs": [],
   "source": [
    "for var in range(10, 5):\n",
    "    print(var)"
   ]
  },
  {
   "cell_type": "code",
   "execution_count": 37,
   "metadata": {},
   "outputs": [
    {
     "name": "stdout",
     "output_type": "stream",
     "text": [
      "10\n",
      "9\n",
      "8\n",
      "7\n",
      "6\n"
     ]
    }
   ],
   "source": [
    "for var in range(10, 5, -1):\n",
    "    print(var)"
   ]
  },
  {
   "cell_type": "markdown",
   "metadata": {},
   "source": [
    "## module ==> Library\n",
    "- module --> 'math'"
   ]
  },
  {
   "cell_type": "code",
   "execution_count": 38,
   "metadata": {},
   "outputs": [],
   "source": [
    "import math"
   ]
  },
  {
   "cell_type": "code",
   "execution_count": 39,
   "metadata": {},
   "outputs": [
    {
     "data": {
      "text/plain": [
       "4.898979485566356"
      ]
     },
     "execution_count": 39,
     "metadata": {},
     "output_type": "execute_result"
    }
   ],
   "source": [
    "math.sqrt(24)"
   ]
  },
  {
   "cell_type": "code",
   "execution_count": 40,
   "metadata": {},
   "outputs": [
    {
     "data": {
      "text/plain": [
       "7.38905609893065"
      ]
     },
     "execution_count": 40,
     "metadata": {},
     "output_type": "execute_result"
    }
   ],
   "source": [
    "math.exp(2)"
   ]
  },
  {
   "cell_type": "code",
   "execution_count": 41,
   "metadata": {},
   "outputs": [
    {
     "data": {
      "text/plain": [
       "2.718281828459045"
      ]
     },
     "execution_count": 41,
     "metadata": {},
     "output_type": "execute_result"
    }
   ],
   "source": [
    "math.e"
   ]
  },
  {
   "cell_type": "code",
   "execution_count": 42,
   "metadata": {},
   "outputs": [
    {
     "data": {
      "text/plain": [
       "7.3890560989306495"
      ]
     },
     "execution_count": 42,
     "metadata": {},
     "output_type": "execute_result"
    }
   ],
   "source": [
    "math.e**2"
   ]
  },
  {
   "cell_type": "code",
   "execution_count": 43,
   "metadata": {},
   "outputs": [
    {
     "data": {
      "text/plain": [
       "2"
      ]
     },
     "execution_count": 43,
     "metadata": {},
     "output_type": "execute_result"
    }
   ],
   "source": [
    "round(2.45686131354)"
   ]
  },
  {
   "cell_type": "code",
   "execution_count": 44,
   "metadata": {},
   "outputs": [
    {
     "data": {
      "text/plain": [
       "2.46"
      ]
     },
     "execution_count": 44,
     "metadata": {},
     "output_type": "execute_result"
    }
   ],
   "source": [
    "round(2.45686131354, 2)"
   ]
  },
  {
   "cell_type": "code",
   "execution_count": 46,
   "metadata": {},
   "outputs": [
    {
     "data": {
      "text/plain": [
       "4.9"
      ]
     },
     "execution_count": 46,
     "metadata": {},
     "output_type": "execute_result"
    }
   ],
   "source": [
    "round(math.sqrt(24), 2)"
   ]
  },
  {
   "cell_type": "code",
   "execution_count": 47,
   "metadata": {},
   "outputs": [
    {
     "data": {
      "text/plain": [
       "4.605170185988092"
      ]
     },
     "execution_count": 47,
     "metadata": {},
     "output_type": "execute_result"
    }
   ],
   "source": [
    "import math as m\n",
    "m.log(100)"
   ]
  },
  {
   "cell_type": "code",
   "execution_count": 48,
   "metadata": {},
   "outputs": [
    {
     "data": {
      "text/plain": [
       "4.0"
      ]
     },
     "execution_count": 48,
     "metadata": {},
     "output_type": "execute_result"
    }
   ],
   "source": [
    "m.log10(10000)"
   ]
  },
  {
   "cell_type": "code",
   "execution_count": null,
   "metadata": {},
   "outputs": [],
   "source": []
  }
 ],
 "metadata": {
  "kernelspec": {
   "display_name": "Python 3",
   "language": "python",
   "name": "python3"
  },
  "language_info": {
   "codemirror_mode": {
    "name": "ipython",
    "version": 3
   },
   "file_extension": ".py",
   "mimetype": "text/x-python",
   "name": "python",
   "nbconvert_exporter": "python",
   "pygments_lexer": "ipython3",
   "version": "3.8.3"
  }
 },
 "nbformat": 4,
 "nbformat_minor": 4
}
