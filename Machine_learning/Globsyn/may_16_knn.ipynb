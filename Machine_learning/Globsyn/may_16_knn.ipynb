{
  "nbformat": 4,
  "nbformat_minor": 0,
  "metadata": {
    "colab": {
      "name": "may_16_knn",
      "provenance": [],
      "collapsed_sections": []
    },
    "kernelspec": {
      "name": "python3",
      "display_name": "Python 3"
    },
    "language_info": {
      "name": "python"
    }
  },
  "cells": [
    {
      "cell_type": "code",
      "execution_count": 15,
      "metadata": {
        "id": "bKh3AAHh9RFE"
      },
      "outputs": [],
      "source": [
        "import warnings\n",
        "import pandas as pd\n",
        "import numpy as np\n",
        "import matplotlib.pyplot as plt\n",
        "import seaborn as sns\n",
        "from sklearn import tree\n",
        "from sklearn import ensemble # required for RandomForest\n",
        "from sklearn import naive_bayes # required for naive bayes\n",
        "from sklearn import neighbors # for kNN\n",
        "from sklearn import linear_model\n",
        "from sklearn import model_selection\n",
        "from sklearn import feature_selection # required for RFE\n",
        "from sklearn import preprocessing\n",
        "from sklearn import metrics\n",
        "warnings.filterwarnings('ignore')"
      ]
    },
    {
      "cell_type": "code",
      "source": [
        "def printmetrics(actual,predicted):\n",
        "    print('AUC : ',np.round(metrics.roc_auc_score(actual,predicted),4))\n",
        "    print('Accuracy :',np.round(metrics.accuracy_score(actual,predicted),4))\n",
        "    print('Precision : ',np.round(metrics.precision_score(actual,predicted),4))\n",
        "    print('Recall : ',np.round(metrics.recall_score(actual,predicted),4))\n",
        "    print('F1 : ',np.round(metrics.f1_score(actual,predicted),4))"
      ],
      "metadata": {
        "id": "YDjFFwkjBSjO"
      },
      "execution_count": 16,
      "outputs": []
    },
    {
      "cell_type": "code",
      "source": [
        "df=pd.read_csv('loan_data_set.csv')\n",
        "df=df.drop('Loan_ID',axis=1)\n",
        "df=df.dropna()\n",
        "\n",
        "newcols=['gender','married','dependents','edu','selfemp','appinc','coappinc','amnt','term','chistory','proparea','status']\n",
        "df.columns=newcols\n",
        "df['status']=df['status'].replace({'Y':1,'N':0})\n",
        "X=df.drop('status',axis=1)\n",
        "y=df['status']\n",
        "\n",
        "#X['gender']=X['gender'].replace({'Male':1,'Female':0})\n",
        "#X['married']=X['married'].replace({'Yes':1,'No':0})\n",
        "#X['dependents']=X['dependents'].replace({'3+':3})\n",
        "#X['dependents']=X['dependents'].astype(np.int)\n",
        "#X['edu']=X['edu'].replace({'Graduate':1,'Not Graduate':2})\n",
        "#X['selfemp']=X['selfemp'].replace({'Yes':1,'No':0})\n",
        "#X['proparea']=X['proparea'].replace({'Rural':1,'Urban':2,'Semiurban':3})\n",
        "\n",
        "catcols=list(X.select_dtypes(include='object').columns)\n",
        "numcols = list(X.select_dtypes(exclude='object').columns)\n",
        "\n",
        "# Xtrain,Xtest,ytrain,ytest=model_selection.train_test_split(X,y,test_size=.15,random_state=42)"
      ],
      "metadata": {
        "id": "QzoLmKxZBToE"
      },
      "execution_count": 17,
      "outputs": []
    },
    {
      "cell_type": "markdown",
      "source": [
        "### kNN :Scaling requied, OHE required"
      ],
      "metadata": {
        "id": "ENm-yZxLBflh"
      }
    },
    {
      "cell_type": "code",
      "source": [
        "catcols.append('chistory')\n",
        "numcols.remove('chistory')"
      ],
      "metadata": {
        "id": "XmrmK1_jBc-a"
      },
      "execution_count": 18,
      "outputs": []
    },
    {
      "cell_type": "code",
      "source": [
        "catcols"
      ],
      "metadata": {
        "colab": {
          "base_uri": "https://localhost:8080/"
        },
        "id": "j4P7MDOGB4xi",
        "outputId": "0745db06-bee2-45ad-bf3a-1db5bafdbbc8"
      },
      "execution_count": 19,
      "outputs": [
        {
          "output_type": "execute_result",
          "data": {
            "text/plain": [
              "['gender', 'married', 'dependents', 'edu', 'selfemp', 'proparea', 'chistory']"
            ]
          },
          "metadata": {},
          "execution_count": 19
        }
      ]
    },
    {
      "cell_type": "code",
      "source": [
        "numcols"
      ],
      "metadata": {
        "colab": {
          "base_uri": "https://localhost:8080/"
        },
        "id": "D0MUe9AnB6Lu",
        "outputId": "7efcc198-c85e-40f7-8bcd-8aa3e48a2a63"
      },
      "execution_count": 20,
      "outputs": [
        {
          "output_type": "execute_result",
          "data": {
            "text/plain": [
              "['appinc', 'coappinc', 'amnt', 'term']"
            ]
          },
          "metadata": {},
          "execution_count": 20
        }
      ]
    },
    {
      "cell_type": "markdown",
      "source": [
        "## implement OHE"
      ],
      "metadata": {
        "id": "FGBF9gRHB8Bk"
      }
    },
    {
      "cell_type": "code",
      "source": [
        "Xohe=pd.get_dummies(X, columns=catcols, drop_first=True)"
      ],
      "metadata": {
        "id": "WkQW0DttB_Hr"
      },
      "execution_count": 21,
      "outputs": []
    },
    {
      "cell_type": "code",
      "source": [
        "Xohe.info()"
      ],
      "metadata": {
        "colab": {
          "base_uri": "https://localhost:8080/"
        },
        "id": "DpuZJPGsCEmy",
        "outputId": "8ca9e6cc-6eba-42b2-d8a0-616d91290c69"
      },
      "execution_count": 22,
      "outputs": [
        {
          "output_type": "stream",
          "name": "stdout",
          "text": [
            "<class 'pandas.core.frame.DataFrame'>\n",
            "Int64Index: 480 entries, 1 to 613\n",
            "Data columns (total 14 columns):\n",
            " #   Column              Non-Null Count  Dtype  \n",
            "---  ------              --------------  -----  \n",
            " 0   appinc              480 non-null    int64  \n",
            " 1   coappinc            480 non-null    float64\n",
            " 2   amnt                480 non-null    float64\n",
            " 3   term                480 non-null    float64\n",
            " 4   gender_Male         480 non-null    uint8  \n",
            " 5   married_Yes         480 non-null    uint8  \n",
            " 6   dependents_1        480 non-null    uint8  \n",
            " 7   dependents_2        480 non-null    uint8  \n",
            " 8   dependents_3+       480 non-null    uint8  \n",
            " 9   edu_Not Graduate    480 non-null    uint8  \n",
            " 10  selfemp_Yes         480 non-null    uint8  \n",
            " 11  proparea_Semiurban  480 non-null    uint8  \n",
            " 12  proparea_Urban      480 non-null    uint8  \n",
            " 13  chistory_1.0        480 non-null    uint8  \n",
            "dtypes: float64(3), int64(1), uint8(10)\n",
            "memory usage: 23.4 KB\n"
          ]
        }
      ]
    },
    {
      "cell_type": "code",
      "source": [
        "Xtrain, Xtest, ytrain,ytest = model_selection.train_test_split(Xohe, y, test_size=.15, random_state=42)"
      ],
      "metadata": {
        "id": "Z9kd3TX8CHQ_"
      },
      "execution_count": 23,
      "outputs": []
    },
    {
      "cell_type": "markdown",
      "source": [
        "## implement scaling\n",
        "- standard scalar"
      ],
      "metadata": {
        "id": "A47zkOUhCgWj"
      }
    },
    {
      "cell_type": "code",
      "source": [
        "scaler=preprocessing.StandardScaler()\n",
        "scaler.fit(Xtrain[numcols])\n",
        "Xtrain[numcols]=scaler.transform(Xtrain[numcols])\n",
        "Xtest[numcols]=scaler.transform(Xtest[numcols])"
      ],
      "metadata": {
        "id": "bwmfS6VmCbOy"
      },
      "execution_count": 24,
      "outputs": []
    },
    {
      "cell_type": "markdown",
      "source": [
        "## kNN"
      ],
      "metadata": {
        "id": "kWxrJpbmCy_T"
      }
    },
    {
      "cell_type": "code",
      "source": [
        "model=neighbors.KNeighborsClassifier(n_neighbors=7, algorithm='ball_tree') # n_neighbors -> k of kNN, should be in ODD"
      ],
      "metadata": {
        "id": "0fLXELVUCxz4"
      },
      "execution_count": 25,
      "outputs": []
    },
    {
      "cell_type": "code",
      "source": [
        "model.fit(Xtrain, ytrain) # training data is arranged into ball tree algorithm"
      ],
      "metadata": {
        "colab": {
          "base_uri": "https://localhost:8080/"
        },
        "id": "W8sK_uLwDIHW",
        "outputId": "d91a49f2-2faa-42e8-f7f1-68f22262a358"
      },
      "execution_count": 26,
      "outputs": [
        {
          "output_type": "execute_result",
          "data": {
            "text/plain": [
              "KNeighborsClassifier(algorithm='ball_tree', n_neighbors=7)"
            ]
          },
          "metadata": {},
          "execution_count": 26
        }
      ]
    },
    {
      "cell_type": "code",
      "source": [
        "predtrain=model.predict(Xtrain)\n",
        "predtest=model.predict(Xtest)"
      ],
      "metadata": {
        "id": "3m7xa-cKDQ_8"
      },
      "execution_count": 32,
      "outputs": []
    },
    {
      "cell_type": "code",
      "source": [
        "printmetrics(ytrain, predtrain)"
      ],
      "metadata": {
        "colab": {
          "base_uri": "https://localhost:8080/"
        },
        "id": "9dfeEL-QDkiL",
        "outputId": "55541a34-41dd-45de-b1e9-e1d3813fdfff"
      },
      "execution_count": 33,
      "outputs": [
        {
          "output_type": "stream",
          "name": "stdout",
          "text": [
            "AUC :  0.6726\n",
            "Accuracy : 0.7868\n",
            "Precision :  0.774\n",
            "Recall :  0.9751\n",
            "F1 :  0.863\n"
          ]
        }
      ]
    },
    {
      "cell_type": "code",
      "source": [
        "printmetrics(ytest, predtest)"
      ],
      "metadata": {
        "colab": {
          "base_uri": "https://localhost:8080/"
        },
        "id": "NzEzpVBqDolt",
        "outputId": "e3301189-fcf2-4d1c-c219-0cf05e3eb877"
      },
      "execution_count": 34,
      "outputs": [
        {
          "output_type": "stream",
          "name": "stdout",
          "text": [
            "AUC :  0.6134\n",
            "Accuracy : 0.75\n",
            "Precision :  0.7619\n",
            "Recall :  0.9412\n",
            "F1 :  0.8421\n"
          ]
        }
      ]
    },
    {
      "cell_type": "code",
      "source": [
        ""
      ],
      "metadata": {
        "id": "gOSY9fA-DuBT"
      },
      "execution_count": null,
      "outputs": []
    }
  ]
}