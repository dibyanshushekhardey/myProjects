{
 "cells": [
  {
   "cell_type": "markdown",
   "metadata": {},
   "source": [
    "# loan_data_set.csv"
   ]
  },
  {
   "cell_type": "code",
   "execution_count": 1,
   "metadata": {},
   "outputs": [],
   "source": [
    "import warnings\n",
    "import pandas as pd\n",
    "import numpy as np\n",
    "import matplotlib.pyplot as plt\n",
    "import seaborn as sns\n",
    "from sklearn import linear_model\n",
    "from sklearn import model_selection\n",
    "from sklearn import preprocessing\n",
    "from sklearn import metrics\n"
   ]
  },
  {
   "cell_type": "code",
   "execution_count": 2,
   "metadata": {},
   "outputs": [],
   "source": [
    "warnings.filterwarnings('ignore')"
   ]
  },
  {
   "cell_type": "markdown",
   "metadata": {},
   "source": [
    "# build a model to predict whether a loan application should be given loan \n",
    "- Loan_Status is label/target/y column\n",
    "- predicting discrete value (Y/N) : classification problem"
   ]
  },
  {
   "cell_type": "code",
   "execution_count": 6,
   "metadata": {},
   "outputs": [],
   "source": [
    "df=pd.read_csv('data/loan_data_set.csv')"
   ]
  },
  {
   "cell_type": "code",
   "execution_count": 14,
   "metadata": {},
   "outputs": [],
   "source": [
    "df=df.drop('Loan_ID',axis=1)"
   ]
  },
  {
   "cell_type": "code",
   "execution_count": 7,
   "metadata": {},
   "outputs": [
    {
     "data": {
      "text/html": [
       "<div>\n",
       "<style scoped>\n",
       "    .dataframe tbody tr th:only-of-type {\n",
       "        vertical-align: middle;\n",
       "    }\n",
       "\n",
       "    .dataframe tbody tr th {\n",
       "        vertical-align: top;\n",
       "    }\n",
       "\n",
       "    .dataframe thead th {\n",
       "        text-align: right;\n",
       "    }\n",
       "</style>\n",
       "<table border=\"1\" class=\"dataframe\">\n",
       "  <thead>\n",
       "    <tr style=\"text-align: right;\">\n",
       "      <th></th>\n",
       "      <th>Loan_ID</th>\n",
       "      <th>Gender</th>\n",
       "      <th>Married</th>\n",
       "      <th>Dependents</th>\n",
       "      <th>Education</th>\n",
       "      <th>Self_Employed</th>\n",
       "      <th>ApplicantIncome</th>\n",
       "      <th>CoapplicantIncome</th>\n",
       "      <th>LoanAmount</th>\n",
       "      <th>Loan_Amount_Term</th>\n",
       "      <th>Credit_History</th>\n",
       "      <th>Property_Area</th>\n",
       "      <th>Loan_Status</th>\n",
       "    </tr>\n",
       "  </thead>\n",
       "  <tbody>\n",
       "    <tr>\n",
       "      <th>0</th>\n",
       "      <td>LP001002</td>\n",
       "      <td>Male</td>\n",
       "      <td>No</td>\n",
       "      <td>0</td>\n",
       "      <td>Graduate</td>\n",
       "      <td>No</td>\n",
       "      <td>5849</td>\n",
       "      <td>0.0</td>\n",
       "      <td>NaN</td>\n",
       "      <td>360.0</td>\n",
       "      <td>1.0</td>\n",
       "      <td>Urban</td>\n",
       "      <td>Y</td>\n",
       "    </tr>\n",
       "    <tr>\n",
       "      <th>1</th>\n",
       "      <td>LP001003</td>\n",
       "      <td>Male</td>\n",
       "      <td>Yes</td>\n",
       "      <td>1</td>\n",
       "      <td>Graduate</td>\n",
       "      <td>No</td>\n",
       "      <td>4583</td>\n",
       "      <td>1508.0</td>\n",
       "      <td>128.0</td>\n",
       "      <td>360.0</td>\n",
       "      <td>1.0</td>\n",
       "      <td>Rural</td>\n",
       "      <td>N</td>\n",
       "    </tr>\n",
       "    <tr>\n",
       "      <th>2</th>\n",
       "      <td>LP001005</td>\n",
       "      <td>Male</td>\n",
       "      <td>Yes</td>\n",
       "      <td>0</td>\n",
       "      <td>Graduate</td>\n",
       "      <td>Yes</td>\n",
       "      <td>3000</td>\n",
       "      <td>0.0</td>\n",
       "      <td>66.0</td>\n",
       "      <td>360.0</td>\n",
       "      <td>1.0</td>\n",
       "      <td>Urban</td>\n",
       "      <td>Y</td>\n",
       "    </tr>\n",
       "    <tr>\n",
       "      <th>3</th>\n",
       "      <td>LP001006</td>\n",
       "      <td>Male</td>\n",
       "      <td>Yes</td>\n",
       "      <td>0</td>\n",
       "      <td>Not Graduate</td>\n",
       "      <td>No</td>\n",
       "      <td>2583</td>\n",
       "      <td>2358.0</td>\n",
       "      <td>120.0</td>\n",
       "      <td>360.0</td>\n",
       "      <td>1.0</td>\n",
       "      <td>Urban</td>\n",
       "      <td>Y</td>\n",
       "    </tr>\n",
       "    <tr>\n",
       "      <th>4</th>\n",
       "      <td>LP001008</td>\n",
       "      <td>Male</td>\n",
       "      <td>No</td>\n",
       "      <td>0</td>\n",
       "      <td>Graduate</td>\n",
       "      <td>No</td>\n",
       "      <td>6000</td>\n",
       "      <td>0.0</td>\n",
       "      <td>141.0</td>\n",
       "      <td>360.0</td>\n",
       "      <td>1.0</td>\n",
       "      <td>Urban</td>\n",
       "      <td>Y</td>\n",
       "    </tr>\n",
       "  </tbody>\n",
       "</table>\n",
       "</div>"
      ],
      "text/plain": [
       "    Loan_ID Gender Married Dependents     Education Self_Employed  \\\n",
       "0  LP001002   Male      No          0      Graduate            No   \n",
       "1  LP001003   Male     Yes          1      Graduate            No   \n",
       "2  LP001005   Male     Yes          0      Graduate           Yes   \n",
       "3  LP001006   Male     Yes          0  Not Graduate            No   \n",
       "4  LP001008   Male      No          0      Graduate            No   \n",
       "\n",
       "   ApplicantIncome  CoapplicantIncome  LoanAmount  Loan_Amount_Term  \\\n",
       "0             5849                0.0         NaN             360.0   \n",
       "1             4583             1508.0       128.0             360.0   \n",
       "2             3000                0.0        66.0             360.0   \n",
       "3             2583             2358.0       120.0             360.0   \n",
       "4             6000                0.0       141.0             360.0   \n",
       "\n",
       "   Credit_History Property_Area Loan_Status  \n",
       "0             1.0         Urban           Y  \n",
       "1             1.0         Rural           N  \n",
       "2             1.0         Urban           Y  \n",
       "3             1.0         Urban           Y  \n",
       "4             1.0         Urban           Y  "
      ]
     },
     "execution_count": 7,
     "metadata": {},
     "output_type": "execute_result"
    }
   ],
   "source": [
    "df[:5]"
   ]
  },
  {
   "cell_type": "code",
   "execution_count": 8,
   "metadata": {},
   "outputs": [
    {
     "data": {
      "text/plain": [
       "<bound method DataFrame.info of       Loan_ID  Gender Married Dependents     Education Self_Employed  \\\n",
       "0    LP001002    Male      No          0      Graduate            No   \n",
       "1    LP001003    Male     Yes          1      Graduate            No   \n",
       "2    LP001005    Male     Yes          0      Graduate           Yes   \n",
       "3    LP001006    Male     Yes          0  Not Graduate            No   \n",
       "4    LP001008    Male      No          0      Graduate            No   \n",
       "..        ...     ...     ...        ...           ...           ...   \n",
       "609  LP002978  Female      No          0      Graduate            No   \n",
       "610  LP002979    Male     Yes         3+      Graduate            No   \n",
       "611  LP002983    Male     Yes          1      Graduate            No   \n",
       "612  LP002984    Male     Yes          2      Graduate            No   \n",
       "613  LP002990  Female      No          0      Graduate           Yes   \n",
       "\n",
       "     ApplicantIncome  CoapplicantIncome  LoanAmount  Loan_Amount_Term  \\\n",
       "0               5849                0.0         NaN             360.0   \n",
       "1               4583             1508.0       128.0             360.0   \n",
       "2               3000                0.0        66.0             360.0   \n",
       "3               2583             2358.0       120.0             360.0   \n",
       "4               6000                0.0       141.0             360.0   \n",
       "..               ...                ...         ...               ...   \n",
       "609             2900                0.0        71.0             360.0   \n",
       "610             4106                0.0        40.0             180.0   \n",
       "611             8072              240.0       253.0             360.0   \n",
       "612             7583                0.0       187.0             360.0   \n",
       "613             4583                0.0       133.0             360.0   \n",
       "\n",
       "     Credit_History Property_Area Loan_Status  \n",
       "0               1.0         Urban           Y  \n",
       "1               1.0         Rural           N  \n",
       "2               1.0         Urban           Y  \n",
       "3               1.0         Urban           Y  \n",
       "4               1.0         Urban           Y  \n",
       "..              ...           ...         ...  \n",
       "609             1.0         Rural           Y  \n",
       "610             1.0         Rural           Y  \n",
       "611             1.0         Urban           Y  \n",
       "612             1.0         Urban           Y  \n",
       "613             0.0     Semiurban           N  \n",
       "\n",
       "[614 rows x 13 columns]>"
      ]
     },
     "execution_count": 8,
     "metadata": {},
     "output_type": "execute_result"
    }
   ],
   "source": [
    "df.info"
   ]
  },
  {
   "cell_type": "code",
   "execution_count": 11,
   "metadata": {},
   "outputs": [],
   "source": [
    "newcols=['gender','married','dependents','edu','selfemp','appinc','coappinc','amnt','term','chistory','proparea','status']"
   ]
  },
  {
   "cell_type": "code",
   "execution_count": 15,
   "metadata": {},
   "outputs": [
    {
     "data": {
      "text/plain": [
       "12"
      ]
     },
     "execution_count": 15,
     "metadata": {},
     "output_type": "execute_result"
    }
   ],
   "source": [
    "len(newcols)"
   ]
  },
  {
   "cell_type": "code",
   "execution_count": 16,
   "metadata": {},
   "outputs": [],
   "source": [
    "df.columns=newcols"
   ]
  },
  {
   "cell_type": "markdown",
   "metadata": {},
   "source": [
    "## dataset contains numeric and categorical(object) columns "
   ]
  },
  {
   "cell_type": "code",
   "execution_count": 17,
   "metadata": {},
   "outputs": [
    {
     "data": {
      "text/plain": [
       "(614, 12)"
      ]
     },
     "execution_count": 17,
     "metadata": {},
     "output_type": "execute_result"
    }
   ],
   "source": [
    "df.shape"
   ]
  },
  {
   "cell_type": "markdown",
   "metadata": {},
   "source": [
    "## dataset has 614 records and 12 columns"
   ]
  },
  {
   "cell_type": "code",
   "execution_count": 18,
   "metadata": {},
   "outputs": [
    {
     "data": {
      "text/plain": [
       "614"
      ]
     },
     "execution_count": 18,
     "metadata": {},
     "output_type": "execute_result"
    }
   ],
   "source": [
    "df.shape[0]"
   ]
  },
  {
   "cell_type": "code",
   "execution_count": 19,
   "metadata": {},
   "outputs": [
    {
     "data": {
      "text/plain": [
       "gender        0.021173\n",
       "married       0.004886\n",
       "dependents    0.024430\n",
       "edu           0.000000\n",
       "selfemp       0.052117\n",
       "appinc        0.000000\n",
       "coappinc      0.000000\n",
       "amnt          0.035831\n",
       "term          0.022801\n",
       "chistory      0.081433\n",
       "proparea      0.000000\n",
       "status        0.000000\n",
       "dtype: float64"
      ]
     },
     "execution_count": 19,
     "metadata": {},
     "output_type": "execute_result"
    }
   ],
   "source": [
    "df.isna().sum()/df.shape[0]"
   ]
  },
  {
   "cell_type": "code",
   "execution_count": 20,
   "metadata": {},
   "outputs": [],
   "source": [
    "df=df.dropna() ## droping all missing values"
   ]
  },
  {
   "cell_type": "markdown",
   "metadata": {},
   "source": [
    "# checking class imbalance "
   ]
  },
  {
   "cell_type": "code",
   "execution_count": 21,
   "metadata": {},
   "outputs": [
    {
     "data": {
      "text/plain": [
       "Y    0.691667\n",
       "N    0.308333\n",
       "Name: status, dtype: float64"
      ]
     },
     "execution_count": 21,
     "metadata": {},
     "output_type": "execute_result"
    }
   ],
   "source": [
    "df['status'].value_counts()/df.shape[0]"
   ]
  },
  {
   "cell_type": "markdown",
   "metadata": {},
   "source": [
    " # y->69% n-> 31% ==> no class imbalance "
   ]
  },
  {
   "cell_type": "code",
   "execution_count": 22,
   "metadata": {},
   "outputs": [],
   "source": [
    "df['status']=df['status'].replace({'Y':1,'N':0})"
   ]
  },
  {
   "cell_type": "code",
   "execution_count": 23,
   "metadata": {},
   "outputs": [
    {
     "data": {
      "text/plain": [
       "1    332\n",
       "0    148\n",
       "Name: status, dtype: int64"
      ]
     },
     "execution_count": 23,
     "metadata": {},
     "output_type": "execute_result"
    }
   ],
   "source": [
    "df['status'].value_counts()"
   ]
  },
  {
   "cell_type": "markdown",
   "metadata": {},
   "source": [
    "## out of FN and FP , which is more dangerous ?\n",
    "- FP is more problematic for this problem as predicting a non loan worthy as worthy mean more loss for bank\n",
    "- 'precision' is more imprtant than 'recall'"
   ]
  },
  {
   "cell_type": "markdown",
   "metadata": {},
   "source": [
    "# Metrics for this problem "
   ]
  },
  {
   "cell_type": "markdown",
   "metadata": {},
   "source": [
    "## 1> AUC: to prove model is not random \n",
    "## 2> precision\n"
   ]
  },
  {
   "cell_type": "code",
   "execution_count": 24,
   "metadata": {},
   "outputs": [],
   "source": [
    "X=df.drop('status',axis=1)\n",
    "y=df['status']"
   ]
  },
  {
   "cell_type": "code",
   "execution_count": 25,
   "metadata": {},
   "outputs": [
    {
     "data": {
      "text/html": [
       "<div>\n",
       "<style scoped>\n",
       "    .dataframe tbody tr th:only-of-type {\n",
       "        vertical-align: middle;\n",
       "    }\n",
       "\n",
       "    .dataframe tbody tr th {\n",
       "        vertical-align: top;\n",
       "    }\n",
       "\n",
       "    .dataframe thead th {\n",
       "        text-align: right;\n",
       "    }\n",
       "</style>\n",
       "<table border=\"1\" class=\"dataframe\">\n",
       "  <thead>\n",
       "    <tr style=\"text-align: right;\">\n",
       "      <th></th>\n",
       "      <th>gender</th>\n",
       "      <th>married</th>\n",
       "      <th>dependents</th>\n",
       "      <th>edu</th>\n",
       "      <th>selfemp</th>\n",
       "      <th>appinc</th>\n",
       "      <th>coappinc</th>\n",
       "      <th>amnt</th>\n",
       "      <th>term</th>\n",
       "      <th>chistory</th>\n",
       "      <th>proparea</th>\n",
       "    </tr>\n",
       "  </thead>\n",
       "  <tbody>\n",
       "    <tr>\n",
       "      <th>1</th>\n",
       "      <td>Male</td>\n",
       "      <td>Yes</td>\n",
       "      <td>1</td>\n",
       "      <td>Graduate</td>\n",
       "      <td>No</td>\n",
       "      <td>4583</td>\n",
       "      <td>1508.0</td>\n",
       "      <td>128.0</td>\n",
       "      <td>360.0</td>\n",
       "      <td>1.0</td>\n",
       "      <td>Rural</td>\n",
       "    </tr>\n",
       "    <tr>\n",
       "      <th>2</th>\n",
       "      <td>Male</td>\n",
       "      <td>Yes</td>\n",
       "      <td>0</td>\n",
       "      <td>Graduate</td>\n",
       "      <td>Yes</td>\n",
       "      <td>3000</td>\n",
       "      <td>0.0</td>\n",
       "      <td>66.0</td>\n",
       "      <td>360.0</td>\n",
       "      <td>1.0</td>\n",
       "      <td>Urban</td>\n",
       "    </tr>\n",
       "    <tr>\n",
       "      <th>3</th>\n",
       "      <td>Male</td>\n",
       "      <td>Yes</td>\n",
       "      <td>0</td>\n",
       "      <td>Not Graduate</td>\n",
       "      <td>No</td>\n",
       "      <td>2583</td>\n",
       "      <td>2358.0</td>\n",
       "      <td>120.0</td>\n",
       "      <td>360.0</td>\n",
       "      <td>1.0</td>\n",
       "      <td>Urban</td>\n",
       "    </tr>\n",
       "  </tbody>\n",
       "</table>\n",
       "</div>"
      ],
      "text/plain": [
       "  gender married dependents           edu selfemp  appinc  coappinc   amnt  \\\n",
       "1   Male     Yes          1      Graduate      No    4583    1508.0  128.0   \n",
       "2   Male     Yes          0      Graduate     Yes    3000       0.0   66.0   \n",
       "3   Male     Yes          0  Not Graduate      No    2583    2358.0  120.0   \n",
       "\n",
       "    term  chistory proparea  \n",
       "1  360.0       1.0    Rural  \n",
       "2  360.0       1.0    Urban  \n",
       "3  360.0       1.0    Urban  "
      ]
     },
     "execution_count": 25,
     "metadata": {},
     "output_type": "execute_result"
    }
   ],
   "source": [
    "X[:3]"
   ]
  },
  {
   "cell_type": "code",
   "execution_count": 26,
   "metadata": {},
   "outputs": [],
   "source": [
    "catcols=list(X.select_dtypes(include='object').columns)"
   ]
  },
  {
   "cell_type": "code",
   "execution_count": 27,
   "metadata": {},
   "outputs": [],
   "source": [
    "numcols = list(X.select_dtypes(exclude='object').columns)"
   ]
  },
  {
   "cell_type": "code",
   "execution_count": 28,
   "metadata": {},
   "outputs": [
    {
     "data": {
      "text/plain": [
       "['gender', 'married', 'dependents', 'edu', 'selfemp', 'proparea']"
      ]
     },
     "execution_count": 28,
     "metadata": {},
     "output_type": "execute_result"
    }
   ],
   "source": [
    "catcols"
   ]
  },
  {
   "cell_type": "code",
   "execution_count": 29,
   "metadata": {},
   "outputs": [
    {
     "data": {
      "text/plain": [
       "['appinc', 'coappinc', 'amnt', 'term', 'chistory']"
      ]
     },
     "execution_count": 29,
     "metadata": {},
     "output_type": "execute_result"
    }
   ],
   "source": [
    "numcols"
   ]
  },
  {
   "cell_type": "markdown",
   "metadata": {},
   "source": [
    "## building Logistic Regression model \n",
    "- catgorical /discrete columns MUST be encoded using OHE\n",
    "- numric columns MUST be scaled "
   ]
  },
  {
   "cell_type": "code",
   "execution_count": 30,
   "metadata": {},
   "outputs": [
    {
     "data": {
      "text/html": [
       "<div>\n",
       "<style scoped>\n",
       "    .dataframe tbody tr th:only-of-type {\n",
       "        vertical-align: middle;\n",
       "    }\n",
       "\n",
       "    .dataframe tbody tr th {\n",
       "        vertical-align: top;\n",
       "    }\n",
       "\n",
       "    .dataframe thead th {\n",
       "        text-align: right;\n",
       "    }\n",
       "</style>\n",
       "<table border=\"1\" class=\"dataframe\">\n",
       "  <thead>\n",
       "    <tr style=\"text-align: right;\">\n",
       "      <th></th>\n",
       "      <th>appinc</th>\n",
       "      <th>coappinc</th>\n",
       "      <th>amnt</th>\n",
       "      <th>term</th>\n",
       "      <th>chistory</th>\n",
       "    </tr>\n",
       "  </thead>\n",
       "  <tbody>\n",
       "    <tr>\n",
       "      <th>1</th>\n",
       "      <td>4583</td>\n",
       "      <td>1508.0</td>\n",
       "      <td>128.0</td>\n",
       "      <td>360.0</td>\n",
       "      <td>1.0</td>\n",
       "    </tr>\n",
       "    <tr>\n",
       "      <th>2</th>\n",
       "      <td>3000</td>\n",
       "      <td>0.0</td>\n",
       "      <td>66.0</td>\n",
       "      <td>360.0</td>\n",
       "      <td>1.0</td>\n",
       "    </tr>\n",
       "    <tr>\n",
       "      <th>3</th>\n",
       "      <td>2583</td>\n",
       "      <td>2358.0</td>\n",
       "      <td>120.0</td>\n",
       "      <td>360.0</td>\n",
       "      <td>1.0</td>\n",
       "    </tr>\n",
       "    <tr>\n",
       "      <th>4</th>\n",
       "      <td>6000</td>\n",
       "      <td>0.0</td>\n",
       "      <td>141.0</td>\n",
       "      <td>360.0</td>\n",
       "      <td>1.0</td>\n",
       "    </tr>\n",
       "    <tr>\n",
       "      <th>5</th>\n",
       "      <td>5417</td>\n",
       "      <td>4196.0</td>\n",
       "      <td>267.0</td>\n",
       "      <td>360.0</td>\n",
       "      <td>1.0</td>\n",
       "    </tr>\n",
       "  </tbody>\n",
       "</table>\n",
       "</div>"
      ],
      "text/plain": [
       "   appinc  coappinc   amnt   term  chistory\n",
       "1    4583    1508.0  128.0  360.0       1.0\n",
       "2    3000       0.0   66.0  360.0       1.0\n",
       "3    2583    2358.0  120.0  360.0       1.0\n",
       "4    6000       0.0  141.0  360.0       1.0\n",
       "5    5417    4196.0  267.0  360.0       1.0"
      ]
     },
     "execution_count": 30,
     "metadata": {},
     "output_type": "execute_result"
    }
   ],
   "source": [
    "X[numcols][:5]"
   ]
  },
  {
   "cell_type": "code",
   "execution_count": 31,
   "metadata": {},
   "outputs": [
    {
     "data": {
      "text/plain": [
       "1.0    410\n",
       "0.0     70\n",
       "Name: chistory, dtype: int64"
      ]
     },
     "execution_count": 31,
     "metadata": {},
     "output_type": "execute_result"
    }
   ],
   "source": [
    "X['chistory'].value_counts()"
   ]
  },
  {
   "cell_type": "markdown",
   "metadata": {},
   "source": [
    "### as 'chistory' has only 2 values , it is discrete column"
   ]
  },
  {
   "cell_type": "code",
   "execution_count": 32,
   "metadata": {},
   "outputs": [
    {
     "data": {
      "text/plain": [
       "360.0    411\n",
       "180.0     36\n",
       "480.0     12\n",
       "300.0      9\n",
       "84.0       3\n",
       "120.0      3\n",
       "36.0       2\n",
       "240.0      2\n",
       "60.0       2\n",
       "Name: term, dtype: int64"
      ]
     },
     "execution_count": 32,
     "metadata": {},
     "output_type": "execute_result"
    }
   ],
   "source": [
    "X['term'].value_counts()"
   ]
  },
  {
   "cell_type": "markdown",
   "metadata": {},
   "source": [
    "## considering 'term' as continuous"
   ]
  },
  {
   "cell_type": "code",
   "execution_count": 33,
   "metadata": {},
   "outputs": [],
   "source": [
    "numcols.remove('chistory')"
   ]
  },
  {
   "cell_type": "code",
   "execution_count": 34,
   "metadata": {},
   "outputs": [
    {
     "data": {
      "text/plain": [
       "['appinc', 'coappinc', 'amnt', 'term']"
      ]
     },
     "execution_count": 34,
     "metadata": {},
     "output_type": "execute_result"
    }
   ],
   "source": [
    "numcols"
   ]
  },
  {
   "cell_type": "code",
   "execution_count": 35,
   "metadata": {},
   "outputs": [],
   "source": [
    "catcols.append('chistory')"
   ]
  },
  {
   "cell_type": "code",
   "execution_count": 36,
   "metadata": {},
   "outputs": [
    {
     "data": {
      "text/plain": [
       "['gender', 'married', 'dependents', 'edu', 'selfemp', 'proparea', 'chistory']"
      ]
     },
     "execution_count": 36,
     "metadata": {},
     "output_type": "execute_result"
    }
   ],
   "source": [
    "catcols"
   ]
  },
  {
   "cell_type": "markdown",
   "metadata": {},
   "source": [
    "## implementing OHE "
   ]
  },
  {
   "cell_type": "code",
   "execution_count": 37,
   "metadata": {},
   "outputs": [],
   "source": [
    "Xohe=pd.get_dummies(X,columns=catcols,drop_first=True)"
   ]
  },
  {
   "cell_type": "code",
   "execution_count": 38,
   "metadata": {},
   "outputs": [
    {
     "name": "stdout",
     "output_type": "stream",
     "text": [
      "<class 'pandas.core.frame.DataFrame'>\n",
      "Int64Index: 480 entries, 1 to 613\n",
      "Data columns (total 14 columns):\n",
      " #   Column              Non-Null Count  Dtype  \n",
      "---  ------              --------------  -----  \n",
      " 0   appinc              480 non-null    int64  \n",
      " 1   coappinc            480 non-null    float64\n",
      " 2   amnt                480 non-null    float64\n",
      " 3   term                480 non-null    float64\n",
      " 4   gender_Male         480 non-null    uint8  \n",
      " 5   married_Yes         480 non-null    uint8  \n",
      " 6   dependents_1        480 non-null    uint8  \n",
      " 7   dependents_2        480 non-null    uint8  \n",
      " 8   dependents_3+       480 non-null    uint8  \n",
      " 9   edu_Not Graduate    480 non-null    uint8  \n",
      " 10  selfemp_Yes         480 non-null    uint8  \n",
      " 11  proparea_Semiurban  480 non-null    uint8  \n",
      " 12  proparea_Urban      480 non-null    uint8  \n",
      " 13  chistory_1.0        480 non-null    uint8  \n",
      "dtypes: float64(3), int64(1), uint8(10)\n",
      "memory usage: 23.4 KB\n"
     ]
    }
   ],
   "source": [
    "Xohe.info()"
   ]
  },
  {
   "cell_type": "code",
   "execution_count": 39,
   "metadata": {},
   "outputs": [
    {
     "data": {
      "text/plain": [
       "(480, 14)"
      ]
     },
     "execution_count": 39,
     "metadata": {},
     "output_type": "execute_result"
    }
   ],
   "source": [
    "Xohe.shape"
   ]
  },
  {
   "cell_type": "code",
   "execution_count": 40,
   "metadata": {},
   "outputs": [
    {
     "data": {
      "text/plain": [
       "(480, 11)"
      ]
     },
     "execution_count": 40,
     "metadata": {},
     "output_type": "execute_result"
    }
   ],
   "source": [
    "X.shape"
   ]
  },
  {
   "cell_type": "code",
   "execution_count": 41,
   "metadata": {},
   "outputs": [],
   "source": [
    "Xtrain,Xtest,ytrain,ytest=model_selection.train_test_split(Xohe,y,test_size=.15,random_state=42)"
   ]
  },
  {
   "cell_type": "code",
   "execution_count": 42,
   "metadata": {},
   "outputs": [
    {
     "data": {
      "text/html": [
       "<div>\n",
       "<style scoped>\n",
       "    .dataframe tbody tr th:only-of-type {\n",
       "        vertical-align: middle;\n",
       "    }\n",
       "\n",
       "    .dataframe tbody tr th {\n",
       "        vertical-align: top;\n",
       "    }\n",
       "\n",
       "    .dataframe thead th {\n",
       "        text-align: right;\n",
       "    }\n",
       "</style>\n",
       "<table border=\"1\" class=\"dataframe\">\n",
       "  <thead>\n",
       "    <tr style=\"text-align: right;\">\n",
       "      <th></th>\n",
       "      <th>appinc</th>\n",
       "      <th>coappinc</th>\n",
       "      <th>amnt</th>\n",
       "      <th>term</th>\n",
       "      <th>gender_Male</th>\n",
       "      <th>married_Yes</th>\n",
       "      <th>dependents_1</th>\n",
       "      <th>dependents_2</th>\n",
       "      <th>dependents_3+</th>\n",
       "      <th>edu_Not Graduate</th>\n",
       "      <th>selfemp_Yes</th>\n",
       "      <th>proparea_Semiurban</th>\n",
       "      <th>proparea_Urban</th>\n",
       "      <th>chistory_1.0</th>\n",
       "    </tr>\n",
       "  </thead>\n",
       "  <tbody>\n",
       "    <tr>\n",
       "      <th>265</th>\n",
       "      <td>4095</td>\n",
       "      <td>3447.0</td>\n",
       "      <td>151.0</td>\n",
       "      <td>360.0</td>\n",
       "      <td>1</td>\n",
       "      <td>0</td>\n",
       "      <td>0</td>\n",
       "      <td>0</td>\n",
       "      <td>0</td>\n",
       "      <td>0</td>\n",
       "      <td>0</td>\n",
       "      <td>0</td>\n",
       "      <td>0</td>\n",
       "      <td>1</td>\n",
       "    </tr>\n",
       "    <tr>\n",
       "      <th>191</th>\n",
       "      <td>12000</td>\n",
       "      <td>0.0</td>\n",
       "      <td>164.0</td>\n",
       "      <td>360.0</td>\n",
       "      <td>1</td>\n",
       "      <td>0</td>\n",
       "      <td>0</td>\n",
       "      <td>0</td>\n",
       "      <td>0</td>\n",
       "      <td>0</td>\n",
       "      <td>0</td>\n",
       "      <td>1</td>\n",
       "      <td>0</td>\n",
       "      <td>1</td>\n",
       "    </tr>\n",
       "    <tr>\n",
       "      <th>199</th>\n",
       "      <td>11000</td>\n",
       "      <td>0.0</td>\n",
       "      <td>83.0</td>\n",
       "      <td>360.0</td>\n",
       "      <td>1</td>\n",
       "      <td>0</td>\n",
       "      <td>0</td>\n",
       "      <td>0</td>\n",
       "      <td>0</td>\n",
       "      <td>0</td>\n",
       "      <td>1</td>\n",
       "      <td>0</td>\n",
       "      <td>1</td>\n",
       "      <td>1</td>\n",
       "    </tr>\n",
       "  </tbody>\n",
       "</table>\n",
       "</div>"
      ],
      "text/plain": [
       "     appinc  coappinc   amnt   term  gender_Male  married_Yes  dependents_1  \\\n",
       "265    4095    3447.0  151.0  360.0            1            0             0   \n",
       "191   12000       0.0  164.0  360.0            1            0             0   \n",
       "199   11000       0.0   83.0  360.0            1            0             0   \n",
       "\n",
       "     dependents_2  dependents_3+  edu_Not Graduate  selfemp_Yes  \\\n",
       "265             0              0                 0            0   \n",
       "191             0              0                 0            0   \n",
       "199             0              0                 0            1   \n",
       "\n",
       "     proparea_Semiurban  proparea_Urban  chistory_1.0  \n",
       "265                   0               0             1  \n",
       "191                   1               0             1  \n",
       "199                   0               1             1  "
      ]
     },
     "execution_count": 42,
     "metadata": {},
     "output_type": "execute_result"
    }
   ],
   "source": [
    "Xtrain[:3]"
   ]
  },
  {
   "cell_type": "markdown",
   "metadata": {},
   "source": [
    "## implementing scaling  (standard scaler)"
   ]
  },
  {
   "cell_type": "code",
   "execution_count": 43,
   "metadata": {},
   "outputs": [],
   "source": [
    "scaler=preprocessing.StandardScaler()\n",
    "scaler.fit(Xtrain[numcols])\n",
    "Xtrain[numcols]=scaler.transform(Xtrain[numcols])\n",
    "Xtest[numcols]=scaler.transform(Xtest[numcols])"
   ]
  },
  {
   "cell_type": "code",
   "execution_count": 44,
   "metadata": {},
   "outputs": [
    {
     "data": {
      "text/html": [
       "<div>\n",
       "<style scoped>\n",
       "    .dataframe tbody tr th:only-of-type {\n",
       "        vertical-align: middle;\n",
       "    }\n",
       "\n",
       "    .dataframe tbody tr th {\n",
       "        vertical-align: top;\n",
       "    }\n",
       "\n",
       "    .dataframe thead th {\n",
       "        text-align: right;\n",
       "    }\n",
       "</style>\n",
       "<table border=\"1\" class=\"dataframe\">\n",
       "  <thead>\n",
       "    <tr style=\"text-align: right;\">\n",
       "      <th></th>\n",
       "      <th>appinc</th>\n",
       "      <th>coappinc</th>\n",
       "      <th>amnt</th>\n",
       "      <th>term</th>\n",
       "      <th>gender_Male</th>\n",
       "      <th>married_Yes</th>\n",
       "      <th>dependents_1</th>\n",
       "      <th>dependents_2</th>\n",
       "      <th>dependents_3+</th>\n",
       "      <th>edu_Not Graduate</th>\n",
       "      <th>selfemp_Yes</th>\n",
       "      <th>proparea_Semiurban</th>\n",
       "      <th>proparea_Urban</th>\n",
       "      <th>chistory_1.0</th>\n",
       "    </tr>\n",
       "  </thead>\n",
       "  <tbody>\n",
       "    <tr>\n",
       "      <th>265</th>\n",
       "      <td>-0.222741</td>\n",
       "      <td>0.681801</td>\n",
       "      <td>0.111985</td>\n",
       "      <td>0.287834</td>\n",
       "      <td>1</td>\n",
       "      <td>0</td>\n",
       "      <td>0</td>\n",
       "      <td>0</td>\n",
       "      <td>0</td>\n",
       "      <td>0</td>\n",
       "      <td>0</td>\n",
       "      <td>0</td>\n",
       "      <td>0</td>\n",
       "      <td>1</td>\n",
       "    </tr>\n",
       "    <tr>\n",
       "      <th>191</th>\n",
       "      <td>1.103185</td>\n",
       "      <td>-0.587477</td>\n",
       "      <td>0.282863</td>\n",
       "      <td>0.287834</td>\n",
       "      <td>1</td>\n",
       "      <td>0</td>\n",
       "      <td>0</td>\n",
       "      <td>0</td>\n",
       "      <td>0</td>\n",
       "      <td>0</td>\n",
       "      <td>0</td>\n",
       "      <td>1</td>\n",
       "      <td>0</td>\n",
       "      <td>1</td>\n",
       "    </tr>\n",
       "    <tr>\n",
       "      <th>199</th>\n",
       "      <td>0.935452</td>\n",
       "      <td>-0.587477</td>\n",
       "      <td>-0.781835</td>\n",
       "      <td>0.287834</td>\n",
       "      <td>1</td>\n",
       "      <td>0</td>\n",
       "      <td>0</td>\n",
       "      <td>0</td>\n",
       "      <td>0</td>\n",
       "      <td>0</td>\n",
       "      <td>1</td>\n",
       "      <td>0</td>\n",
       "      <td>1</td>\n",
       "      <td>1</td>\n",
       "    </tr>\n",
       "  </tbody>\n",
       "</table>\n",
       "</div>"
      ],
      "text/plain": [
       "       appinc  coappinc      amnt      term  gender_Male  married_Yes  \\\n",
       "265 -0.222741  0.681801  0.111985  0.287834            1            0   \n",
       "191  1.103185 -0.587477  0.282863  0.287834            1            0   \n",
       "199  0.935452 -0.587477 -0.781835  0.287834            1            0   \n",
       "\n",
       "     dependents_1  dependents_2  dependents_3+  edu_Not Graduate  selfemp_Yes  \\\n",
       "265             0             0              0                 0            0   \n",
       "191             0             0              0                 0            0   \n",
       "199             0             0              0                 0            1   \n",
       "\n",
       "     proparea_Semiurban  proparea_Urban  chistory_1.0  \n",
       "265                   0               0             1  \n",
       "191                   1               0             1  \n",
       "199                   0               1             1  "
      ]
     },
     "execution_count": 44,
     "metadata": {},
     "output_type": "execute_result"
    }
   ],
   "source": [
    "Xtrain[:3]"
   ]
  },
  {
   "cell_type": "code",
   "execution_count": 45,
   "metadata": {},
   "outputs": [],
   "source": [
    "Xtrain_orig=Xtrain.copy()\n",
    "Xtest_orig=Xtest.copy()"
   ]
  },
  {
   "cell_type": "markdown",
   "metadata": {},
   "source": [
    "## implementing base model using Logistic Regression"
   ]
  },
  {
   "cell_type": "code",
   "execution_count": 46,
   "metadata": {},
   "outputs": [],
   "source": [
    "model=linear_model.LogisticRegression()\n",
    "model.fit(Xtrain,ytrain)\n",
    "predtrain=model.predict(Xtrain)\n",
    "predtest=model.predict(Xtest)"
   ]
  },
  {
   "cell_type": "code",
   "execution_count": 47,
   "metadata": {},
   "outputs": [
    {
     "name": "stdout",
     "output_type": "stream",
     "text": [
      "AUC :  0.7001\n"
     ]
    }
   ],
   "source": [
    "print('AUC : ',np.round(metrics.roc_auc_score(ytrain,predtrain),4)) # .5<= auc <=1 , ,5 =worst(random)"
   ]
  },
  {
   "cell_type": "code",
   "execution_count": 48,
   "metadata": {},
   "outputs": [
    {
     "name": "stdout",
     "output_type": "stream",
     "text": [
      "AUC :  0.7381\n"
     ]
    }
   ],
   "source": [
    "print('AUC : ',np.round(metrics.roc_auc_score(ytest,predtest),4))"
   ]
  },
  {
   "cell_type": "code",
   "execution_count": 49,
   "metadata": {},
   "outputs": [],
   "source": [
    "def printmetrics(actual,predicted):\n",
    "    print('AUC : ',np.round(metrics.roc_auc_score(actual,predicted),4))\n",
    "    print('Accuracy :',np.round(metrics.accuracy_score(actual,predicted),4))\n",
    "    print('Precision : ',np.round(metrics.precision_score(actual,predicted),4))\n",
    "    print('Recall : ',np.round(metrics.recall_score(actual,predicted),4))\n",
    "    print('F1 : ',np.round(metrics.f1_score(actual,predicted),4))\n",
    "    \n",
    "    "
   ]
  },
  {
   "cell_type": "code",
   "execution_count": 50,
   "metadata": {},
   "outputs": [
    {
     "name": "stdout",
     "output_type": "stream",
     "text": [
      "TRAINING METRICS\n",
      "----------------\n",
      "AUC :  0.7001\n",
      "Accuracy : 0.8039\n",
      "Precision :  0.7896\n",
      "Recall :  0.9751\n",
      "F1 :  0.8726\n"
     ]
    }
   ],
   "source": [
    "print('TRAINING METRICS')\n",
    "print('----------------')\n",
    "printmetrics(ytrain,predtrain)"
   ]
  },
  {
   "cell_type": "code",
   "execution_count": 51,
   "metadata": {},
   "outputs": [
    {
     "name": "stdout",
     "output_type": "stream",
     "text": [
      "TEST METRICS\n",
      "----------------\n",
      "AUC :  0.7381\n",
      "Accuracy : 0.8472\n",
      "Precision :  0.8226\n",
      "Recall :  1.0\n",
      "F1 :  0.9027\n"
     ]
    }
   ],
   "source": [
    "print('TEST METRICS')\n",
    "print('----------------')\n",
    "printmetrics(ytest,predtest)"
   ]
  },
  {
   "cell_type": "markdown",
   "metadata": {},
   "source": [
    "## feature selection\n",
    "- using model ( by comparing weight)\n",
    "- helpfull for Exploratory Data Analysis(EDA)"
   ]
  },
  {
   "cell_type": "code",
   "execution_count": 52,
   "metadata": {},
   "outputs": [
    {
     "data": {
      "text/plain": [
       "array([[ 0.05240802, -0.14401959, -0.18192689, -0.06314722,  0.23773216,\n",
       "         0.51737295, -0.37016913,  0.19045951, -0.02171857, -0.40512658,\n",
       "        -0.16977248,  0.74293664,  0.08126328,  2.89714115]])"
      ]
     },
     "execution_count": 52,
     "metadata": {},
     "output_type": "execute_result"
    }
   ],
   "source": [
    "model.coef_"
   ]
  },
  {
   "cell_type": "code",
   "execution_count": 53,
   "metadata": {},
   "outputs": [
    {
     "data": {
      "text/plain": [
       "chistory_1.0          2.897141\n",
       "proparea_Semiurban    0.742937\n",
       "married_Yes           0.517373\n",
       "edu_Not Graduate      0.405127\n",
       "dependents_1          0.370169\n",
       "gender_Male           0.237732\n",
       "dependents_2          0.190460\n",
       "amnt                  0.181927\n",
       "selfemp_Yes           0.169772\n",
       "coappinc              0.144020\n",
       "proparea_Urban        0.081263\n",
       "term                  0.063147\n",
       "appinc                0.052408\n",
       "dependents_3+         0.021719\n",
       "dtype: float64"
      ]
     },
     "execution_count": 53,
     "metadata": {},
     "output_type": "execute_result"
    }
   ],
   "source": [
    "pd.Series(np.abs(model.coef_[0]),index=Xtrain.columns).sort_values(ascending=False)"
   ]
  },
  {
   "cell_type": "code",
   "execution_count": 54,
   "metadata": {},
   "outputs": [
    {
     "data": {
      "text/plain": [
       "<matplotlib.axes._subplots.AxesSubplot at 0x57be478>"
      ]
     },
     "execution_count": 54,
     "metadata": {},
     "output_type": "execute_result"
    },
    {
     "data": {
      "image/png": "[encoded data removed]",
      "text/plain": [
       "<Figure size 432x288 with 1 Axes>"
      ]
     },
     "metadata": {
      "needs_background": "light"
     },
     "output_type": "display_data"
    }
   ],
   "source": [
    "sns.countplot(x='chistory',data=df) # using countplot as 'chistory' is discrete/categorical"
   ]
  },
  {
   "cell_type": "code",
   "execution_count": 55,
   "metadata": {},
   "outputs": [
    {
     "data": {
      "text/plain": [
       "1.0    410\n",
       "0.0     70\n",
       "Name: chistory, dtype: int64"
      ]
     },
     "execution_count": 55,
     "metadata": {},
     "output_type": "execute_result"
    }
   ],
   "source": [
    "df['chistory'].value_counts()"
   ]
  },
  {
   "cell_type": "code",
   "execution_count": 56,
   "metadata": {},
   "outputs": [
    {
     "data": {
      "text/plain": [
       "<matplotlib.axes._subplots.AxesSubplot at 0x5840730>"
      ]
     },
     "execution_count": 56,
     "metadata": {},
     "output_type": "execute_result"
    },
    {
     "data": {
      "image/png": "[encoded data removed]",
      "text/plain": [
       "<Figure size 432x288 with 1 Axes>"
      ]
     },
     "metadata": {
      "needs_background": "light"
     },
     "output_type": "display_data"
    }
   ],
   "source": [
    "sns.countplot(x='chistory',hue='status',data=df)"
   ]
  },
  {
   "cell_type": "code",
   "execution_count": 57,
   "metadata": {},
   "outputs": [
    {
     "data": {
      "text/plain": [
       "<matplotlib.axes._subplots.AxesSubplot at 0x58ae5c8>"
      ]
     },
     "execution_count": 57,
     "metadata": {},
     "output_type": "execute_result"
    },
    {
     "data": {
      "image/png": "[encoded data removed]",
      "text/plain": [
       "<Figure size 432x288 with 1 Axes>"
      ]
     },
     "metadata": {
      "needs_background": "light"
     },
     "output_type": "display_data"
    }
   ],
   "source": [
    "sns.countplot(x='proparea',hue='status',data=df)"
   ]
  },
  {
   "cell_type": "code",
   "execution_count": 58,
   "metadata": {},
   "outputs": [
    {
     "data": {
      "text/plain": [
       "Semiurban    191\n",
       "Urban        150\n",
       "Rural        139\n",
       "Name: proparea, dtype: int64"
      ]
     },
     "execution_count": 58,
     "metadata": {},
     "output_type": "execute_result"
    }
   ],
   "source": [
    "df['proparea'].value_counts()"
   ]
  },
  {
   "cell_type": "code",
   "execution_count": 59,
   "metadata": {},
   "outputs": [
    {
     "data": {
      "text/html": [
       "<div>\n",
       "<style scoped>\n",
       "    .dataframe tbody tr th:only-of-type {\n",
       "        vertical-align: middle;\n",
       "    }\n",
       "\n",
       "    .dataframe tbody tr th {\n",
       "        vertical-align: top;\n",
       "    }\n",
       "\n",
       "    .dataframe thead th {\n",
       "        text-align: right;\n",
       "    }\n",
       "</style>\n",
       "<table border=\"1\" class=\"dataframe\">\n",
       "  <thead>\n",
       "    <tr style=\"text-align: right;\">\n",
       "      <th>status</th>\n",
       "      <th>0</th>\n",
       "      <th>1</th>\n",
       "    </tr>\n",
       "    <tr>\n",
       "      <th>proparea</th>\n",
       "      <th></th>\n",
       "      <th></th>\n",
       "    </tr>\n",
       "  </thead>\n",
       "  <tbody>\n",
       "    <tr>\n",
       "      <th>Rural</th>\n",
       "      <td>0.112500</td>\n",
       "      <td>0.177083</td>\n",
       "    </tr>\n",
       "    <tr>\n",
       "      <th>Semiurban</th>\n",
       "      <td>0.087500</td>\n",
       "      <td>0.310417</td>\n",
       "    </tr>\n",
       "    <tr>\n",
       "      <th>Urban</th>\n",
       "      <td>0.108333</td>\n",
       "      <td>0.204167</td>\n",
       "    </tr>\n",
       "  </tbody>\n",
       "</table>\n",
       "</div>"
      ],
      "text/plain": [
       "status            0         1\n",
       "proparea                     \n",
       "Rural      0.112500  0.177083\n",
       "Semiurban  0.087500  0.310417\n",
       "Urban      0.108333  0.204167"
      ]
     },
     "execution_count": 59,
     "metadata": {},
     "output_type": "execute_result"
    }
   ],
   "source": [
    "pd.crosstab(index=df['proparea'],columns=df['status'],normalize=True)"
   ]
  },
  {
   "cell_type": "code",
   "execution_count": 60,
   "metadata": {},
   "outputs": [],
   "source": [
    "Xtrain=Xtrain.drop('dependents_3+',axis=1)\n",
    "Xtest=Xtest.drop('dependents_3+',axis=1)"
   ]
  },
  {
   "cell_type": "code",
   "execution_count": 61,
   "metadata": {},
   "outputs": [],
   "source": [
    "model=linear_model.LogisticRegression()\n",
    "model.fit(Xtrain,ytrain)\n",
    "predtrain=model.predict(Xtrain)\n",
    "predtest=model.predict(Xtest)"
   ]
  },
  {
   "cell_type": "code",
   "execution_count": 62,
   "metadata": {},
   "outputs": [
    {
     "name": "stdout",
     "output_type": "stream",
     "text": [
      "TRAINING METRICS\n",
      "----------------\n",
      "AUC :  0.7001\n",
      "Accuracy : 0.8039\n",
      "Precision :  0.7896\n",
      "Recall :  0.9751\n",
      "F1 :  0.8726\n",
      "TEST METRICS\n",
      "----------------\n",
      "AUC :  0.7381\n",
      "Accuracy : 0.8472\n",
      "Precision :  0.8226\n",
      "Recall :  1.0\n",
      "F1 :  0.9027\n"
     ]
    }
   ],
   "source": [
    "print('TRAINING METRICS')\n",
    "print('----------------')\n",
    "printmetrics(ytrain,predtrain)\n",
    "print('TEST METRICS')\n",
    "print('----------------')\n",
    "printmetrics(ytest,predtest)"
   ]
  },
  {
   "cell_type": "code",
   "execution_count": 63,
   "metadata": {},
   "outputs": [
    {
     "data": {
      "text/plain": [
       "<matplotlib.axes._subplots.AxesSubplot at 0xb1e27f0>"
      ]
     },
     "execution_count": 63,
     "metadata": {},
     "output_type": "execute_result"
    },
    {
     "data": {
      "image/png": "[encoded data removed]",
      "text/plain": [
       "<Figure size 432x288 with 1 Axes>"
      ]
     },
     "metadata": {
      "needs_background": "light"
     },
     "output_type": "display_data"
    }
   ],
   "source": [
    "sns.distplot(df['appinc'],hist=False)"
   ]
  },
  {
   "cell_type": "code",
   "execution_count": 64,
   "metadata": {},
   "outputs": [
    {
     "data": {
      "text/plain": [
       "<matplotlib.axes._subplots.AxesSubplot at 0x58b7988>"
      ]
     },
     "execution_count": 64,
     "metadata": {},
     "output_type": "execute_result"
    },
    {
     "data": {
      "image/png": "[encoded data removed]",
      "text/plain": [
       "<Figure size 432x288 with 1 Axes>"
      ]
     },
     "metadata": {
      "needs_background": "light"
     },
     "output_type": "display_data"
    }
   ],
   "source": [
    "sns.violinplot(y='chistory',x='status',data=df)"
   ]
  },
  {
   "cell_type": "code",
   "execution_count": 65,
   "metadata": {},
   "outputs": [
    {
     "data": {
      "text/plain": [
       "<matplotlib.axes._subplots.AxesSubplot at 0xb273088>"
      ]
     },
     "execution_count": 65,
     "metadata": {},
     "output_type": "execute_result"
    },
    {
     "data": {
      "image/png": "[encoded data removed]",
      "text/plain": [
       "<Figure size 432x288 with 1 Axes>"
      ]
     },
     "metadata": {
      "needs_background": "light"
     },
     "output_type": "display_data"
    }
   ],
   "source": [
    "sns.boxplot(y='appinc',data=df)"
   ]
  },
  {
   "cell_type": "code",
   "execution_count": 66,
   "metadata": {},
   "outputs": [
    {
     "data": {
      "text/plain": [
       "<matplotlib.axes._subplots.AxesSubplot at 0xb2b1988>"
      ]
     },
     "execution_count": 66,
     "metadata": {},
     "output_type": "execute_result"
    },
    {
     "data": {
      "image/png": "[encoded data removed]",
      "text/plain": [
       "<Figure size 432x288 with 1 Axes>"
      ]
     },
     "metadata": {
      "needs_background": "light"
     },
     "output_type": "display_data"
    }
   ],
   "source": [
    "sns.boxplot(y='appinc',x='status',data=df)"
   ]
  },
  {
   "cell_type": "markdown",
   "metadata": {},
   "source": [
    "## Logistic Regression using statsmodels\n",
    "- feature selection using p-values ( feature selection using statistics )"
   ]
  },
  {
   "cell_type": "code",
   "execution_count": 67,
   "metadata": {},
   "outputs": [],
   "source": [
    "Xtrain=Xtrain_orig.copy()\n",
    "Xtest=Xtest_orig.copy()"
   ]
  },
  {
   "cell_type": "code",
   "execution_count": 68,
   "metadata": {},
   "outputs": [
    {
     "data": {
      "text/html": [
       "<div>\n",
       "<style scoped>\n",
       "    .dataframe tbody tr th:only-of-type {\n",
       "        vertical-align: middle;\n",
       "    }\n",
       "\n",
       "    .dataframe tbody tr th {\n",
       "        vertical-align: top;\n",
       "    }\n",
       "\n",
       "    .dataframe thead th {\n",
       "        text-align: right;\n",
       "    }\n",
       "</style>\n",
       "<table border=\"1\" class=\"dataframe\">\n",
       "  <thead>\n",
       "    <tr style=\"text-align: right;\">\n",
       "      <th></th>\n",
       "      <th>appinc</th>\n",
       "      <th>coappinc</th>\n",
       "      <th>amnt</th>\n",
       "      <th>term</th>\n",
       "      <th>gender_Male</th>\n",
       "      <th>married_Yes</th>\n",
       "      <th>dependents_1</th>\n",
       "      <th>dependents_2</th>\n",
       "      <th>dependents_3+</th>\n",
       "      <th>edu_Not Graduate</th>\n",
       "      <th>selfemp_Yes</th>\n",
       "      <th>proparea_Semiurban</th>\n",
       "      <th>proparea_Urban</th>\n",
       "      <th>chistory_1.0</th>\n",
       "    </tr>\n",
       "  </thead>\n",
       "  <tbody>\n",
       "    <tr>\n",
       "      <th>265</th>\n",
       "      <td>-0.222741</td>\n",
       "      <td>0.681801</td>\n",
       "      <td>0.111985</td>\n",
       "      <td>0.287834</td>\n",
       "      <td>1</td>\n",
       "      <td>0</td>\n",
       "      <td>0</td>\n",
       "      <td>0</td>\n",
       "      <td>0</td>\n",
       "      <td>0</td>\n",
       "      <td>0</td>\n",
       "      <td>0</td>\n",
       "      <td>0</td>\n",
       "      <td>1</td>\n",
       "    </tr>\n",
       "    <tr>\n",
       "      <th>191</th>\n",
       "      <td>1.103185</td>\n",
       "      <td>-0.587477</td>\n",
       "      <td>0.282863</td>\n",
       "      <td>0.287834</td>\n",
       "      <td>1</td>\n",
       "      <td>0</td>\n",
       "      <td>0</td>\n",
       "      <td>0</td>\n",
       "      <td>0</td>\n",
       "      <td>0</td>\n",
       "      <td>0</td>\n",
       "      <td>1</td>\n",
       "      <td>0</td>\n",
       "      <td>1</td>\n",
       "    </tr>\n",
       "  </tbody>\n",
       "</table>\n",
       "</div>"
      ],
      "text/plain": [
       "       appinc  coappinc      amnt      term  gender_Male  married_Yes  \\\n",
       "265 -0.222741  0.681801  0.111985  0.287834            1            0   \n",
       "191  1.103185 -0.587477  0.282863  0.287834            1            0   \n",
       "\n",
       "     dependents_1  dependents_2  dependents_3+  edu_Not Graduate  selfemp_Yes  \\\n",
       "265             0             0              0                 0            0   \n",
       "191             0             0              0                 0            0   \n",
       "\n",
       "     proparea_Semiurban  proparea_Urban  chistory_1.0  \n",
       "265                   0               0             1  \n",
       "191                   1               0             1  "
      ]
     },
     "execution_count": 68,
     "metadata": {},
     "output_type": "execute_result"
    }
   ],
   "source": [
    "Xtrain[:2]"
   ]
  },
  {
   "cell_type": "code",
   "execution_count": 69,
   "metadata": {},
   "outputs": [],
   "source": [
    "import statsmodels.api as sm\n",
    "Xtrain_1=sm.add_constant(Xtrain) # adds a column of 1\n",
    "model=sm.GLM(  ytrain,Xtrain_1,family=sm.families.Binomial()  ) # model object creation\n",
    "results=model.fit() # ML \n"
   ]
  },
  {
   "cell_type": "code",
   "execution_count": 70,
   "metadata": {},
   "outputs": [
    {
     "name": "stdout",
     "output_type": "stream",
     "text": [
      "                 Generalized Linear Model Regression Results                  \n",
      "==============================================================================\n",
      "Dep. Variable:                 status   No. Observations:                  408\n",
      "Model:                            GLM   Df Residuals:                      393\n",
      "Model Family:                Binomial   Df Model:                           14\n",
      "Link Function:                  logit   Scale:                          1.0000\n",
      "Method:                          IRLS   Log-Likelihood:                -190.83\n",
      "Date:                Sat, 21 May 2022   Deviance:                       381.66\n",
      "Time:                        16:36:50   Pearson chi2:                     403.\n",
      "No. Iterations:                     5                                         \n",
      "Covariance Type:            nonrobust                                         \n",
      "======================================================================================\n",
      "                         coef    std err          z      P>|z|      [0.025      0.975]\n",
      "--------------------------------------------------------------------------------------\n",
      "const                 -2.7820      0.552     -5.037      0.000      -3.865      -1.699\n",
      "appinc                 0.0737      0.160      0.461      0.645      -0.240       0.387\n",
      "coappinc              -0.1536      0.120     -1.279      0.201      -0.389       0.082\n",
      "amnt                  -0.1969      0.149     -1.322      0.186      -0.489       0.095\n",
      "term                  -0.0717      0.140     -0.513      0.608      -0.346       0.202\n",
      "gender_Male            0.2647      0.354      0.749      0.454      -0.428       0.958\n",
      "married_Yes            0.5636      0.310      1.821      0.069      -0.043       1.170\n",
      "dependents_1          -0.4324      0.363     -1.190      0.234      -1.145       0.280\n",
      "dependents_2           0.2147      0.411      0.523      0.601      -0.590       1.019\n",
      "dependents_3+         -0.0027      0.511     -0.005      0.996      -1.005       0.999\n",
      "edu_Not Graduate      -0.4604      0.320     -1.439      0.150      -1.088       0.167\n",
      "selfemp_Yes           -0.2000      0.354     -0.564      0.572      -0.895       0.495\n",
      "proparea_Semiurban     0.8396      0.321      2.617      0.009       0.211       1.468\n",
      "proparea_Urban         0.1162      0.324      0.359      0.720      -0.518       0.751\n",
      "chistory_1.0           3.3926      0.438      7.741      0.000       2.534       4.252\n",
      "======================================================================================\n"
     ]
    }
   ],
   "source": [
    "print(results.summary())"
   ]
  },
  {
   "cell_type": "markdown",
   "metadata": {},
   "source": [
    "## 'chistory_1.0 ' , 'proparea_Semiurban' is significant as their p-value<.05"
   ]
  },
  {
   "cell_type": "code",
   "execution_count": 71,
   "metadata": {},
   "outputs": [],
   "source": [
    "Xtrain2=Xtrain[['chistory_1.0','proparea_Semiurban']]\n",
    "Xtest2=Xtest[['chistory_1.0','proparea_Semiurban']]"
   ]
  },
  {
   "cell_type": "code",
   "execution_count": 72,
   "metadata": {},
   "outputs": [
    {
     "name": "stdout",
     "output_type": "stream",
     "text": [
      "TRAIN RESULTS\n",
      "-----------\n",
      "AUC :  0.6962\n",
      "Accuracy : 0.8015\n",
      "Precision :  0.7874\n",
      "Recall :  0.9751\n",
      "F1 :  0.8712\n",
      "TEST RESULTS\n",
      "-----------\n",
      "AUC :  0.7381\n",
      "Accuracy : 0.8472\n",
      "Precision :  0.8226\n",
      "Recall :  1.0\n",
      "F1 :  0.9027\n"
     ]
    }
   ],
   "source": [
    "model=linear_model.LogisticRegression()\n",
    "model.fit(Xtrain2,ytrain)\n",
    "predtrain=model.predict(Xtrain2)\n",
    "predtest=model.predict(Xtest2)\n",
    "print('TRAIN RESULTS')\n",
    "print('-----------')\n",
    "printmetrics(ytrain,predtrain)\n",
    "print('TEST RESULTS')\n",
    "print('-----------')\n",
    "printmetrics(ytest,predtest)\n"
   ]
  },
  {
   "cell_type": "code",
   "execution_count": 73,
   "metadata": {},
   "outputs": [
    {
     "data": {
      "text/html": [
       "<div>\n",
       "<style scoped>\n",
       "    .dataframe tbody tr th:only-of-type {\n",
       "        vertical-align: middle;\n",
       "    }\n",
       "\n",
       "    .dataframe tbody tr th {\n",
       "        vertical-align: top;\n",
       "    }\n",
       "\n",
       "    .dataframe thead th {\n",
       "        text-align: right;\n",
       "    }\n",
       "</style>\n",
       "<table border=\"1\" class=\"dataframe\">\n",
       "  <thead>\n",
       "    <tr style=\"text-align: right;\">\n",
       "      <th></th>\n",
       "      <th>chistory_1.0</th>\n",
       "      <th>proparea_Semiurban</th>\n",
       "    </tr>\n",
       "  </thead>\n",
       "  <tbody>\n",
       "    <tr>\n",
       "      <th>265</th>\n",
       "      <td>1</td>\n",
       "      <td>0</td>\n",
       "    </tr>\n",
       "    <tr>\n",
       "      <th>191</th>\n",
       "      <td>1</td>\n",
       "      <td>1</td>\n",
       "    </tr>\n",
       "  </tbody>\n",
       "</table>\n",
       "</div>"
      ],
      "text/plain": [
       "     chistory_1.0  proparea_Semiurban\n",
       "265             1                   0\n",
       "191             1                   1"
      ]
     },
     "execution_count": 73,
     "metadata": {},
     "output_type": "execute_result"
    }
   ],
   "source": [
    "Xtrain2[:2]"
   ]
  },
  {
   "cell_type": "markdown",
   "metadata": {},
   "source": [
    "## feature selection by using correlation"
   ]
  },
  {
   "cell_type": "code",
   "execution_count": 74,
   "metadata": {},
   "outputs": [
    {
     "data": {
      "text/html": [
       "<div>\n",
       "<style scoped>\n",
       "    .dataframe tbody tr th:only-of-type {\n",
       "        vertical-align: middle;\n",
       "    }\n",
       "\n",
       "    .dataframe tbody tr th {\n",
       "        vertical-align: top;\n",
       "    }\n",
       "\n",
       "    .dataframe thead th {\n",
       "        text-align: right;\n",
       "    }\n",
       "</style>\n",
       "<table border=\"1\" class=\"dataframe\">\n",
       "  <thead>\n",
       "    <tr style=\"text-align: right;\">\n",
       "      <th></th>\n",
       "      <th>appinc</th>\n",
       "      <th>coappinc</th>\n",
       "      <th>amnt</th>\n",
       "      <th>term</th>\n",
       "      <th>gender_Male</th>\n",
       "      <th>married_Yes</th>\n",
       "      <th>dependents_1</th>\n",
       "      <th>dependents_2</th>\n",
       "      <th>dependents_3+</th>\n",
       "      <th>edu_Not Graduate</th>\n",
       "      <th>selfemp_Yes</th>\n",
       "      <th>proparea_Semiurban</th>\n",
       "      <th>proparea_Urban</th>\n",
       "      <th>chistory_1.0</th>\n",
       "    </tr>\n",
       "  </thead>\n",
       "  <tbody>\n",
       "    <tr>\n",
       "      <th>265</th>\n",
       "      <td>-0.222741</td>\n",
       "      <td>0.681801</td>\n",
       "      <td>0.111985</td>\n",
       "      <td>0.287834</td>\n",
       "      <td>1</td>\n",
       "      <td>0</td>\n",
       "      <td>0</td>\n",
       "      <td>0</td>\n",
       "      <td>0</td>\n",
       "      <td>0</td>\n",
       "      <td>0</td>\n",
       "      <td>0</td>\n",
       "      <td>0</td>\n",
       "      <td>1</td>\n",
       "    </tr>\n",
       "    <tr>\n",
       "      <th>191</th>\n",
       "      <td>1.103185</td>\n",
       "      <td>-0.587477</td>\n",
       "      <td>0.282863</td>\n",
       "      <td>0.287834</td>\n",
       "      <td>1</td>\n",
       "      <td>0</td>\n",
       "      <td>0</td>\n",
       "      <td>0</td>\n",
       "      <td>0</td>\n",
       "      <td>0</td>\n",
       "      <td>0</td>\n",
       "      <td>1</td>\n",
       "      <td>0</td>\n",
       "      <td>1</td>\n",
       "    </tr>\n",
       "    <tr>\n",
       "      <th>199</th>\n",
       "      <td>0.935452</td>\n",
       "      <td>-0.587477</td>\n",
       "      <td>-0.781835</td>\n",
       "      <td>0.287834</td>\n",
       "      <td>1</td>\n",
       "      <td>0</td>\n",
       "      <td>0</td>\n",
       "      <td>0</td>\n",
       "      <td>0</td>\n",
       "      <td>0</td>\n",
       "      <td>1</td>\n",
       "      <td>0</td>\n",
       "      <td>1</td>\n",
       "      <td>1</td>\n",
       "    </tr>\n",
       "    <tr>\n",
       "      <th>224</th>\n",
       "      <td>0.138722</td>\n",
       "      <td>-0.587477</td>\n",
       "      <td>-0.190336</td>\n",
       "      <td>0.287834</td>\n",
       "      <td>1</td>\n",
       "      <td>1</td>\n",
       "      <td>0</td>\n",
       "      <td>0</td>\n",
       "      <td>0</td>\n",
       "      <td>0</td>\n",
       "      <td>0</td>\n",
       "      <td>1</td>\n",
       "      <td>0</td>\n",
       "      <td>1</td>\n",
       "    </tr>\n",
       "    <tr>\n",
       "      <th>316</th>\n",
       "      <td>-0.286144</td>\n",
       "      <td>-0.587477</td>\n",
       "      <td>-0.295491</td>\n",
       "      <td>0.287834</td>\n",
       "      <td>1</td>\n",
       "      <td>1</td>\n",
       "      <td>0</td>\n",
       "      <td>1</td>\n",
       "      <td>0</td>\n",
       "      <td>0</td>\n",
       "      <td>0</td>\n",
       "      <td>1</td>\n",
       "      <td>0</td>\n",
       "      <td>1</td>\n",
       "    </tr>\n",
       "  </tbody>\n",
       "</table>\n",
       "</div>"
      ],
      "text/plain": [
       "       appinc  coappinc      amnt      term  gender_Male  married_Yes  \\\n",
       "265 -0.222741  0.681801  0.111985  0.287834            1            0   \n",
       "191  1.103185 -0.587477  0.282863  0.287834            1            0   \n",
       "199  0.935452 -0.587477 -0.781835  0.287834            1            0   \n",
       "224  0.138722 -0.587477 -0.190336  0.287834            1            1   \n",
       "316 -0.286144 -0.587477 -0.295491  0.287834            1            1   \n",
       "\n",
       "     dependents_1  dependents_2  dependents_3+  edu_Not Graduate  selfemp_Yes  \\\n",
       "265             0             0              0                 0            0   \n",
       "191             0             0              0                 0            0   \n",
       "199             0             0              0                 0            1   \n",
       "224             0             0              0                 0            0   \n",
       "316             0             1              0                 0            0   \n",
       "\n",
       "     proparea_Semiurban  proparea_Urban  chistory_1.0  \n",
       "265                   0               0             1  \n",
       "191                   1               0             1  \n",
       "199                   0               1             1  \n",
       "224                   1               0             1  \n",
       "316                   1               0             1  "
      ]
     },
     "execution_count": 74,
     "metadata": {},
     "output_type": "execute_result"
    }
   ],
   "source": [
    "Xtrain[:5]"
   ]
  },
  {
   "cell_type": "code",
   "execution_count": 75,
   "metadata": {},
   "outputs": [
    {
     "data": {
      "text/html": [
       "<div>\n",
       "<style scoped>\n",
       "    .dataframe tbody tr th:only-of-type {\n",
       "        vertical-align: middle;\n",
       "    }\n",
       "\n",
       "    .dataframe tbody tr th {\n",
       "        vertical-align: top;\n",
       "    }\n",
       "\n",
       "    .dataframe thead th {\n",
       "        text-align: right;\n",
       "    }\n",
       "</style>\n",
       "<table border=\"1\" class=\"dataframe\">\n",
       "  <thead>\n",
       "    <tr style=\"text-align: right;\">\n",
       "      <th></th>\n",
       "      <th>appinc</th>\n",
       "      <th>coappinc</th>\n",
       "      <th>amnt</th>\n",
       "      <th>term</th>\n",
       "      <th>gender_Male</th>\n",
       "      <th>married_Yes</th>\n",
       "      <th>dependents_1</th>\n",
       "      <th>dependents_2</th>\n",
       "      <th>dependents_3+</th>\n",
       "      <th>edu_Not Graduate</th>\n",
       "      <th>selfemp_Yes</th>\n",
       "      <th>proparea_Semiurban</th>\n",
       "      <th>proparea_Urban</th>\n",
       "      <th>chistory_1.0</th>\n",
       "    </tr>\n",
       "  </thead>\n",
       "  <tbody>\n",
       "    <tr>\n",
       "      <th>appinc</th>\n",
       "      <td>1.000000</td>\n",
       "      <td>-0.103446</td>\n",
       "      <td>0.481336</td>\n",
       "      <td>-0.012918</td>\n",
       "      <td>0.037724</td>\n",
       "      <td>0.043588</td>\n",
       "      <td>0.056546</td>\n",
       "      <td>0.001986</td>\n",
       "      <td>0.140151</td>\n",
       "      <td>-0.119931</td>\n",
       "      <td>0.174295</td>\n",
       "      <td>0.008445</td>\n",
       "      <td>-0.050985</td>\n",
       "      <td>-0.081148</td>\n",
       "    </tr>\n",
       "    <tr>\n",
       "      <th>coappinc</th>\n",
       "      <td>-0.103446</td>\n",
       "      <td>1.000000</td>\n",
       "      <td>0.196593</td>\n",
       "      <td>0.000066</td>\n",
       "      <td>0.156710</td>\n",
       "      <td>0.081520</td>\n",
       "      <td>-0.005371</td>\n",
       "      <td>0.016669</td>\n",
       "      <td>-0.037185</td>\n",
       "      <td>-0.071954</td>\n",
       "      <td>-0.007462</td>\n",
       "      <td>-0.020179</td>\n",
       "      <td>0.039698</td>\n",
       "      <td>0.008441</td>\n",
       "    </tr>\n",
       "    <tr>\n",
       "      <th>amnt</th>\n",
       "      <td>0.481336</td>\n",
       "      <td>0.196593</td>\n",
       "      <td>1.000000</td>\n",
       "      <td>0.047765</td>\n",
       "      <td>0.143570</td>\n",
       "      <td>0.200143</td>\n",
       "      <td>0.074719</td>\n",
       "      <td>0.111026</td>\n",
       "      <td>0.086335</td>\n",
       "      <td>-0.160312</td>\n",
       "      <td>0.141585</td>\n",
       "      <td>-0.011143</td>\n",
       "      <td>-0.091386</td>\n",
       "      <td>-0.046499</td>\n",
       "    </tr>\n",
       "    <tr>\n",
       "      <th>term</th>\n",
       "      <td>-0.012918</td>\n",
       "      <td>0.000066</td>\n",
       "      <td>0.047765</td>\n",
       "      <td>1.000000</td>\n",
       "      <td>-0.077299</td>\n",
       "      <td>-0.103757</td>\n",
       "      <td>-0.121956</td>\n",
       "      <td>0.025432</td>\n",
       "      <td>-0.079399</td>\n",
       "      <td>-0.094713</td>\n",
       "      <td>-0.032217</td>\n",
       "      <td>0.054689</td>\n",
       "      <td>-0.084627</td>\n",
       "      <td>0.034874</td>\n",
       "    </tr>\n",
       "    <tr>\n",
       "      <th>gender_Male</th>\n",
       "      <td>0.037724</td>\n",
       "      <td>0.156710</td>\n",
       "      <td>0.143570</td>\n",
       "      <td>-0.077299</td>\n",
       "      <td>1.000000</td>\n",
       "      <td>0.330874</td>\n",
       "      <td>-0.025027</td>\n",
       "      <td>0.140129</td>\n",
       "      <td>0.117611</td>\n",
       "      <td>0.055991</td>\n",
       "      <td>-0.009654</td>\n",
       "      <td>-0.083465</td>\n",
       "      <td>0.028617</td>\n",
       "      <td>0.004779</td>\n",
       "    </tr>\n",
       "    <tr>\n",
       "      <th>married_Yes</th>\n",
       "      <td>0.043588</td>\n",
       "      <td>0.081520</td>\n",
       "      <td>0.200143</td>\n",
       "      <td>-0.103757</td>\n",
       "      <td>0.330874</td>\n",
       "      <td>1.000000</td>\n",
       "      <td>0.146858</td>\n",
       "      <td>0.261071</td>\n",
       "      <td>0.176014</td>\n",
       "      <td>-0.013007</td>\n",
       "      <td>0.023538</td>\n",
       "      <td>0.002243</td>\n",
       "      <td>0.029942</td>\n",
       "      <td>0.040048</td>\n",
       "    </tr>\n",
       "    <tr>\n",
       "      <th>dependents_1</th>\n",
       "      <td>0.056546</td>\n",
       "      <td>-0.005371</td>\n",
       "      <td>0.074719</td>\n",
       "      <td>-0.121956</td>\n",
       "      <td>-0.025027</td>\n",
       "      <td>0.146858</td>\n",
       "      <td>1.000000</td>\n",
       "      <td>-0.203519</td>\n",
       "      <td>-0.137213</td>\n",
       "      <td>0.001678</td>\n",
       "      <td>0.089733</td>\n",
       "      <td>0.007311</td>\n",
       "      <td>0.082039</td>\n",
       "      <td>-0.031314</td>\n",
       "    </tr>\n",
       "    <tr>\n",
       "      <th>dependents_2</th>\n",
       "      <td>0.001986</td>\n",
       "      <td>0.016669</td>\n",
       "      <td>0.111026</td>\n",
       "      <td>0.025432</td>\n",
       "      <td>0.140129</td>\n",
       "      <td>0.261071</td>\n",
       "      <td>-0.203519</td>\n",
       "      <td>1.000000</td>\n",
       "      <td>-0.134840</td>\n",
       "      <td>-0.008244</td>\n",
       "      <td>0.042196</td>\n",
       "      <td>-0.022451</td>\n",
       "      <td>0.049504</td>\n",
       "      <td>0.018570</td>\n",
       "    </tr>\n",
       "    <tr>\n",
       "      <th>dependents_3+</th>\n",
       "      <td>0.140151</td>\n",
       "      <td>-0.037185</td>\n",
       "      <td>0.086335</td>\n",
       "      <td>-0.079399</td>\n",
       "      <td>0.117611</td>\n",
       "      <td>0.176014</td>\n",
       "      <td>-0.137213</td>\n",
       "      <td>-0.134840</td>\n",
       "      <td>1.000000</td>\n",
       "      <td>0.050021</td>\n",
       "      <td>-0.032513</td>\n",
       "      <td>-0.024218</td>\n",
       "      <td>-0.071519</td>\n",
       "      <td>-0.050078</td>\n",
       "    </tr>\n",
       "    <tr>\n",
       "      <th>edu_Not Graduate</th>\n",
       "      <td>-0.119931</td>\n",
       "      <td>-0.071954</td>\n",
       "      <td>-0.160312</td>\n",
       "      <td>-0.094713</td>\n",
       "      <td>0.055991</td>\n",
       "      <td>-0.013007</td>\n",
       "      <td>0.001678</td>\n",
       "      <td>-0.008244</td>\n",
       "      <td>0.050021</td>\n",
       "      <td>1.000000</td>\n",
       "      <td>0.004969</td>\n",
       "      <td>-0.059964</td>\n",
       "      <td>-0.021279</td>\n",
       "      <td>-0.018880</td>\n",
       "    </tr>\n",
       "    <tr>\n",
       "      <th>selfemp_Yes</th>\n",
       "      <td>0.174295</td>\n",
       "      <td>-0.007462</td>\n",
       "      <td>0.141585</td>\n",
       "      <td>-0.032217</td>\n",
       "      <td>-0.009654</td>\n",
       "      <td>0.023538</td>\n",
       "      <td>0.089733</td>\n",
       "      <td>0.042196</td>\n",
       "      <td>-0.032513</td>\n",
       "      <td>0.004969</td>\n",
       "      <td>1.000000</td>\n",
       "      <td>-0.015157</td>\n",
       "      <td>-0.032399</td>\n",
       "      <td>-0.030223</td>\n",
       "    </tr>\n",
       "    <tr>\n",
       "      <th>proparea_Semiurban</th>\n",
       "      <td>0.008445</td>\n",
       "      <td>-0.020179</td>\n",
       "      <td>-0.011143</td>\n",
       "      <td>0.054689</td>\n",
       "      <td>-0.083465</td>\n",
       "      <td>0.002243</td>\n",
       "      <td>0.007311</td>\n",
       "      <td>-0.022451</td>\n",
       "      <td>-0.024218</td>\n",
       "      <td>-0.059964</td>\n",
       "      <td>-0.015157</td>\n",
       "      <td>1.000000</td>\n",
       "      <td>-0.546169</td>\n",
       "      <td>0.078377</td>\n",
       "    </tr>\n",
       "    <tr>\n",
       "      <th>proparea_Urban</th>\n",
       "      <td>-0.050985</td>\n",
       "      <td>0.039698</td>\n",
       "      <td>-0.091386</td>\n",
       "      <td>-0.084627</td>\n",
       "      <td>0.028617</td>\n",
       "      <td>0.029942</td>\n",
       "      <td>0.082039</td>\n",
       "      <td>0.049504</td>\n",
       "      <td>-0.071519</td>\n",
       "      <td>-0.021279</td>\n",
       "      <td>-0.032399</td>\n",
       "      <td>-0.546169</td>\n",
       "      <td>1.000000</td>\n",
       "      <td>-0.030204</td>\n",
       "    </tr>\n",
       "    <tr>\n",
       "      <th>chistory_1.0</th>\n",
       "      <td>-0.081148</td>\n",
       "      <td>0.008441</td>\n",
       "      <td>-0.046499</td>\n",
       "      <td>0.034874</td>\n",
       "      <td>0.004779</td>\n",
       "      <td>0.040048</td>\n",
       "      <td>-0.031314</td>\n",
       "      <td>0.018570</td>\n",
       "      <td>-0.050078</td>\n",
       "      <td>-0.018880</td>\n",
       "      <td>-0.030223</td>\n",
       "      <td>0.078377</td>\n",
       "      <td>-0.030204</td>\n",
       "      <td>1.000000</td>\n",
       "    </tr>\n",
       "  </tbody>\n",
       "</table>\n",
       "</div>"
      ],
      "text/plain": [
       "                      appinc  coappinc      amnt      term  gender_Male  \\\n",
       "appinc              1.000000 -0.103446  0.481336 -0.012918     0.037724   \n",
       "coappinc           -0.103446  1.000000  0.196593  0.000066     0.156710   \n",
       "amnt                0.481336  0.196593  1.000000  0.047765     0.143570   \n",
       "term               -0.012918  0.000066  0.047765  1.000000    -0.077299   \n",
       "gender_Male         0.037724  0.156710  0.143570 -0.077299     1.000000   \n",
       "married_Yes         0.043588  0.081520  0.200143 -0.103757     0.330874   \n",
       "dependents_1        0.056546 -0.005371  0.074719 -0.121956    -0.025027   \n",
       "dependents_2        0.001986  0.016669  0.111026  0.025432     0.140129   \n",
       "dependents_3+       0.140151 -0.037185  0.086335 -0.079399     0.117611   \n",
       "edu_Not Graduate   -0.119931 -0.071954 -0.160312 -0.094713     0.055991   \n",
       "selfemp_Yes         0.174295 -0.007462  0.141585 -0.032217    -0.009654   \n",
       "proparea_Semiurban  0.008445 -0.020179 -0.011143  0.054689    -0.083465   \n",
       "proparea_Urban     -0.050985  0.039698 -0.091386 -0.084627     0.028617   \n",
       "chistory_1.0       -0.081148  0.008441 -0.046499  0.034874     0.004779   \n",
       "\n",
       "                    married_Yes  dependents_1  dependents_2  dependents_3+  \\\n",
       "appinc                 0.043588      0.056546      0.001986       0.140151   \n",
       "coappinc               0.081520     -0.005371      0.016669      -0.037185   \n",
       "amnt                   0.200143      0.074719      0.111026       0.086335   \n",
       "term                  -0.103757     -0.121956      0.025432      -0.079399   \n",
       "gender_Male            0.330874     -0.025027      0.140129       0.117611   \n",
       "married_Yes            1.000000      0.146858      0.261071       0.176014   \n",
       "dependents_1           0.146858      1.000000     -0.203519      -0.137213   \n",
       "dependents_2           0.261071     -0.203519      1.000000      -0.134840   \n",
       "dependents_3+          0.176014     -0.137213     -0.134840       1.000000   \n",
       "edu_Not Graduate      -0.013007      0.001678     -0.008244       0.050021   \n",
       "selfemp_Yes            0.023538      0.089733      0.042196      -0.032513   \n",
       "proparea_Semiurban     0.002243      0.007311     -0.022451      -0.024218   \n",
       "proparea_Urban         0.029942      0.082039      0.049504      -0.071519   \n",
       "chistory_1.0           0.040048     -0.031314      0.018570      -0.050078   \n",
       "\n",
       "                    edu_Not Graduate  selfemp_Yes  proparea_Semiurban  \\\n",
       "appinc                     -0.119931     0.174295            0.008445   \n",
       "coappinc                   -0.071954    -0.007462           -0.020179   \n",
       "amnt                       -0.160312     0.141585           -0.011143   \n",
       "term                       -0.094713    -0.032217            0.054689   \n",
       "gender_Male                 0.055991    -0.009654           -0.083465   \n",
       "married_Yes                -0.013007     0.023538            0.002243   \n",
       "dependents_1                0.001678     0.089733            0.007311   \n",
       "dependents_2               -0.008244     0.042196           -0.022451   \n",
       "dependents_3+               0.050021    -0.032513           -0.024218   \n",
       "edu_Not Graduate            1.000000     0.004969           -0.059964   \n",
       "selfemp_Yes                 0.004969     1.000000           -0.015157   \n",
       "proparea_Semiurban         -0.059964    -0.015157            1.000000   \n",
       "proparea_Urban             -0.021279    -0.032399           -0.546169   \n",
       "chistory_1.0               -0.018880    -0.030223            0.078377   \n",
       "\n",
       "                    proparea_Urban  chistory_1.0  \n",
       "appinc                   -0.050985     -0.081148  \n",
       "coappinc                  0.039698      0.008441  \n",
       "amnt                     -0.091386     -0.046499  \n",
       "term                     -0.084627      0.034874  \n",
       "gender_Male               0.028617      0.004779  \n",
       "married_Yes               0.029942      0.040048  \n",
       "dependents_1              0.082039     -0.031314  \n",
       "dependents_2              0.049504      0.018570  \n",
       "dependents_3+            -0.071519     -0.050078  \n",
       "edu_Not Graduate         -0.021279     -0.018880  \n",
       "selfemp_Yes              -0.032399     -0.030223  \n",
       "proparea_Semiurban       -0.546169      0.078377  \n",
       "proparea_Urban            1.000000     -0.030204  \n",
       "chistory_1.0             -0.030204      1.000000  "
      ]
     },
     "execution_count": 75,
     "metadata": {},
     "output_type": "execute_result"
    }
   ],
   "source": [
    "Xtrain.corr() # not checking correlation of combination of columns "
   ]
  },
  {
   "cell_type": "markdown",
   "metadata": {},
   "source": [
    "## variance inflation factor (VIF)\n",
    "- checks correlation involving combination of columns "
   ]
  },
  {
   "cell_type": "code",
   "execution_count": 76,
   "metadata": {},
   "outputs": [],
   "source": [
    "from statsmodels.stats.outliers_influence import variance_inflation_factor\n",
    "vif=pd.DataFrame() # creates a dataframe with no rows and no columns \n",
    "vif['features']=Xtrain.columns # creating a column : 'features'\n",
    "vif['vif']=[variance_inflation_factor(Xtrain.values,i) for i in range(Xtrain.shape[1])] # caculates vif\n",
    "vif['vif']=np.round(vif['vif'],2) \n",
    "vif=vif.sort_values(by='vif',ascending=False)\n"
   ]
  },
  {
   "cell_type": "markdown",
   "metadata": {},
   "source": [
    "###  dependency of 'gender_Male' with some combination of other columns\n",
    "- vif >10 -> DROP the column\n",
    "- 5 < vif < 10 -> Check if u can drop \n",
    "- vif <5 -> do not drop the column"
   ]
  },
  {
   "cell_type": "code",
   "execution_count": 77,
   "metadata": {},
   "outputs": [
    {
     "data": {
      "text/html": [
       "<div>\n",
       "<style scoped>\n",
       "    .dataframe tbody tr th:only-of-type {\n",
       "        vertical-align: middle;\n",
       "    }\n",
       "\n",
       "    .dataframe tbody tr th {\n",
       "        vertical-align: top;\n",
       "    }\n",
       "\n",
       "    .dataframe thead th {\n",
       "        text-align: right;\n",
       "    }\n",
       "</style>\n",
       "<table border=\"1\" class=\"dataframe\">\n",
       "  <thead>\n",
       "    <tr style=\"text-align: right;\">\n",
       "      <th></th>\n",
       "      <th>features</th>\n",
       "      <th>vif</th>\n",
       "    </tr>\n",
       "  </thead>\n",
       "  <tbody>\n",
       "    <tr>\n",
       "      <th>4</th>\n",
       "      <td>gender_Male</td>\n",
       "      <td>4.93</td>\n",
       "    </tr>\n",
       "    <tr>\n",
       "      <th>13</th>\n",
       "      <td>chistory_1.0</td>\n",
       "      <td>4.46</td>\n",
       "    </tr>\n",
       "    <tr>\n",
       "      <th>5</th>\n",
       "      <td>married_Yes</td>\n",
       "      <td>3.64</td>\n",
       "    </tr>\n",
       "    <tr>\n",
       "      <th>11</th>\n",
       "      <td>proparea_Semiurban</td>\n",
       "      <td>2.11</td>\n",
       "    </tr>\n",
       "    <tr>\n",
       "      <th>12</th>\n",
       "      <td>proparea_Urban</td>\n",
       "      <td>1.93</td>\n",
       "    </tr>\n",
       "    <tr>\n",
       "      <th>2</th>\n",
       "      <td>amnt</td>\n",
       "      <td>1.54</td>\n",
       "    </tr>\n",
       "    <tr>\n",
       "      <th>7</th>\n",
       "      <td>dependents_2</td>\n",
       "      <td>1.49</td>\n",
       "    </tr>\n",
       "    <tr>\n",
       "      <th>0</th>\n",
       "      <td>appinc</td>\n",
       "      <td>1.44</td>\n",
       "    </tr>\n",
       "    <tr>\n",
       "      <th>6</th>\n",
       "      <td>dependents_1</td>\n",
       "      <td>1.44</td>\n",
       "    </tr>\n",
       "    <tr>\n",
       "      <th>9</th>\n",
       "      <td>edu_Not Graduate</td>\n",
       "      <td>1.30</td>\n",
       "    </tr>\n",
       "    <tr>\n",
       "      <th>8</th>\n",
       "      <td>dependents_3+</td>\n",
       "      <td>1.29</td>\n",
       "    </tr>\n",
       "    <tr>\n",
       "      <th>10</th>\n",
       "      <td>selfemp_Yes</td>\n",
       "      <td>1.22</td>\n",
       "    </tr>\n",
       "    <tr>\n",
       "      <th>1</th>\n",
       "      <td>coappinc</td>\n",
       "      <td>1.12</td>\n",
       "    </tr>\n",
       "    <tr>\n",
       "      <th>3</th>\n",
       "      <td>term</td>\n",
       "      <td>1.05</td>\n",
       "    </tr>\n",
       "  </tbody>\n",
       "</table>\n",
       "</div>"
      ],
      "text/plain": [
       "              features   vif\n",
       "4          gender_Male  4.93\n",
       "13        chistory_1.0  4.46\n",
       "5          married_Yes  3.64\n",
       "11  proparea_Semiurban  2.11\n",
       "12      proparea_Urban  1.93\n",
       "2                 amnt  1.54\n",
       "7         dependents_2  1.49\n",
       "0               appinc  1.44\n",
       "6         dependents_1  1.44\n",
       "9     edu_Not Graduate  1.30\n",
       "8        dependents_3+  1.29\n",
       "10         selfemp_Yes  1.22\n",
       "1             coappinc  1.12\n",
       "3                 term  1.05"
      ]
     },
     "execution_count": 77,
     "metadata": {},
     "output_type": "execute_result"
    }
   ],
   "source": [
    "vif"
   ]
  },
  {
   "cell_type": "code",
   "execution_count": null,
   "metadata": {},
   "outputs": [],
   "source": []
  }
 ],
 "metadata": {
  "kernelspec": {
   "display_name": "Python 3",
   "language": "python",
   "name": "python3"
  },
  "language_info": {
   "codemirror_mode": {
    "name": "ipython",
    "version": 3
   },
   "file_extension": ".py",
   "mimetype": "text/x-python",
   "name": "python",
   "nbconvert_exporter": "python",
   "pygments_lexer": "ipython3",
   "version": "3.8.3"
  }
 },
 "nbformat": 4,
 "nbformat_minor": 4
}
