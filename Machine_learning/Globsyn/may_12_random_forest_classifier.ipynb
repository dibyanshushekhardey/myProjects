{
  "nbformat": 4,
  "nbformat_minor": 0,
  "metadata": {
    "colab": {
      "name": "may_12_random_forest_classifier",
      "provenance": [],
      "collapsed_sections": []
    },
    "kernelspec": {
      "name": "python3",
      "display_name": "Python 3"
    },
    "language_info": {
      "name": "python"
    }
  },
  "cells": [
    {
      "cell_type": "code",
      "execution_count": 1,
      "metadata": {
        "id": "FP4i3OJ0c05t"
      },
      "outputs": [],
      "source": [
        "import warnings\n",
        "import pandas as pd\n",
        "import numpy as np\n",
        "import matplotlib.pyplot as plt\n",
        "import seaborn as sns\n",
        "from sklearn import tree\n",
        "from sklearn import ensemble # required for RandomForest\n",
        "from sklearn import linear_model\n",
        "from sklearn import model_selection\n",
        "from sklearn import feature_selection # required for RFE\n",
        "from sklearn import preprocessing\n",
        "from sklearn import metrics\n",
        "warnings.filterwarnings('ignore')"
      ]
    },
    {
      "cell_type": "code",
      "source": [
        "def printmetrics(actual,predicted):\n",
        "    print('AUC : ',np.round(metrics.roc_auc_score(actual,predicted),4))\n",
        "    print('Accuracy :',np.round(metrics.accuracy_score(actual,predicted),4))\n",
        "    print('Precision : ',np.round(metrics.precision_score(actual,predicted),4))\n",
        "    print('Recall : ',np.round(metrics.recall_score(actual,predicted),4))\n",
        "    print('F1 : ',np.round(metrics.f1_score(actual,predicted),4))"
      ],
      "metadata": {
        "id": "BZRJlk-weIVg"
      },
      "execution_count": 2,
      "outputs": []
    },
    {
      "cell_type": "code",
      "source": [
        "df=pd.read_csv('loan_data_set.csv')\n",
        "df=df.drop('Loan_ID',axis=1)\n",
        "df=df.dropna()"
      ],
      "metadata": {
        "id": "6ZuHoddGeJo9"
      },
      "execution_count": 3,
      "outputs": []
    },
    {
      "cell_type": "code",
      "source": [
        "newcols=['gender','married','dependents','edu','selfemp','appinc','coappinc','amnt','term','chistory','proparea','status']\n",
        "df.columns=newcols\n",
        "df['status']=df['status'].replace({'Y':1,'N':0})\n",
        "X=df.drop('status',axis=1)\n",
        "y=df['status']"
      ],
      "metadata": {
        "id": "rPoQgIXBeLRI"
      },
      "execution_count": 4,
      "outputs": []
    },
    {
      "cell_type": "code",
      "source": [
        "X['gender']=X['gender'].replace({'Male':1,'Female':0})\n",
        "X['married']=X['married'].replace({'Yes':1,'No':0})\n",
        "X['dependents']=X['dependents'].replace({'3+':3})\n",
        "X['dependents']=X['dependents'].astype(np.int)\n",
        "X['edu']=X['edu'].replace({'Graduate':1,'Not Graduate':2})\n",
        "X['selfemp']=X['selfemp'].replace({'Yes':1,'No':0})\n",
        "X['proparea']=X['proparea'].replace({'Rural':1,'Urban':2,'Semiurban':3})"
      ],
      "metadata": {
        "id": "THTyeEoifB6a"
      },
      "execution_count": 5,
      "outputs": []
    },
    {
      "cell_type": "code",
      "source": [
        "Xtrain,Xtest,ytrain,ytest=model_selection.train_test_split(X,y,test_size=.15,random_state=42)"
      ],
      "metadata": {
        "id": "8E_xCTLLfC53"
      },
      "execution_count": 6,
      "outputs": []
    },
    {
      "cell_type": "code",
      "source": [
        "model=ensemble.RandomForestClassifier(random_state=42,n_estimators=200)"
      ],
      "metadata": {
        "id": "dJzkysLEfEZ6"
      },
      "execution_count": 7,
      "outputs": []
    },
    {
      "cell_type": "code",
      "source": [
        "model.fit(Xtrain,ytrain)"
      ],
      "metadata": {
        "colab": {
          "base_uri": "https://localhost:8080/"
        },
        "id": "1EnF9P2hfFTa",
        "outputId": "6f9322d7-f4a8-474c-8756-dd6d8864e376"
      },
      "execution_count": 8,
      "outputs": [
        {
          "output_type": "execute_result",
          "data": {
            "text/plain": [
              "RandomForestClassifier(n_estimators=200, random_state=42)"
            ]
          },
          "metadata": {},
          "execution_count": 8
        }
      ]
    },
    {
      "cell_type": "code",
      "source": [
        "predtrain=model.predict(Xtrain)\n",
        "predtest=model.predict(Xtest)"
      ],
      "metadata": {
        "id": "7lZknQbCfGF4"
      },
      "execution_count": 9,
      "outputs": []
    },
    {
      "cell_type": "code",
      "source": [
        "printmetrics(ytrain,predtrain)"
      ],
      "metadata": {
        "colab": {
          "base_uri": "https://localhost:8080/"
        },
        "id": "r-9xXh_tfHUW",
        "outputId": "1dd955e2-3b7a-4d4f-d34e-283a6b01ca91"
      },
      "execution_count": 10,
      "outputs": [
        {
          "output_type": "stream",
          "name": "stdout",
          "text": [
            "AUC :  1.0\n",
            "Accuracy : 1.0\n",
            "Precision :  1.0\n",
            "Recall :  1.0\n",
            "F1 :  1.0\n"
          ]
        }
      ]
    },
    {
      "cell_type": "code",
      "source": [
        "printmetrics(ytest,predtest)"
      ],
      "metadata": {
        "colab": {
          "base_uri": "https://localhost:8080/"
        },
        "id": "2dFpfCoRfID_",
        "outputId": "6ae770b1-4698-444d-8bf6-68cff386f091"
      },
      "execution_count": 11,
      "outputs": [
        {
          "output_type": "stream",
          "name": "stdout",
          "text": [
            "AUC :  0.7661\n",
            "Accuracy : 0.8472\n",
            "Precision :  0.8448\n",
            "Recall :  0.9608\n",
            "F1 :  0.8991\n"
          ]
        }
      ]
    },
    {
      "cell_type": "code",
      "source": [
        "model=ensemble.RandomForestClassifier(random_state=42,n_estimators=2000,max_features=1)"
      ],
      "metadata": {
        "id": "BLQnFHPYfJEg"
      },
      "execution_count": 12,
      "outputs": []
    },
    {
      "cell_type": "code",
      "source": [
        "model.fit(Xtrain,ytrain)"
      ],
      "metadata": {
        "colab": {
          "base_uri": "https://localhost:8080/"
        },
        "id": "-hCr-C-pfKrD",
        "outputId": "0cf15ea8-b8b9-48c7-b115-be67acf3c07b"
      },
      "execution_count": 13,
      "outputs": [
        {
          "output_type": "execute_result",
          "data": {
            "text/plain": [
              "RandomForestClassifier(max_features=1, n_estimators=2000, random_state=42)"
            ]
          },
          "metadata": {},
          "execution_count": 13
        }
      ]
    },
    {
      "cell_type": "code",
      "source": [
        "predtrain=model.predict(Xtrain)\n",
        "predtest=model.predict(Xtest)"
      ],
      "metadata": {
        "id": "Nar2XU3YfLmS"
      },
      "execution_count": 14,
      "outputs": []
    },
    {
      "cell_type": "code",
      "source": [
        "printmetrics(ytrain,predtrain)"
      ],
      "metadata": {
        "colab": {
          "base_uri": "https://localhost:8080/"
        },
        "id": "kHl_Z4xIfMtq",
        "outputId": "afe46a5b-7fa1-41ef-d65e-12750a06ed5a"
      },
      "execution_count": 15,
      "outputs": [
        {
          "output_type": "stream",
          "name": "stdout",
          "text": [
            "AUC :  1.0\n",
            "Accuracy : 1.0\n",
            "Precision :  1.0\n",
            "Recall :  1.0\n",
            "F1 :  1.0\n"
          ]
        }
      ]
    },
    {
      "cell_type": "code",
      "source": [
        "printmetrics(ytrain,predtrain)"
      ],
      "metadata": {
        "colab": {
          "base_uri": "https://localhost:8080/"
        },
        "id": "bLSw-WUQfNnj",
        "outputId": "ba3a69af-d5db-4fc9-c1d5-8d4cfe4b8620"
      },
      "execution_count": 16,
      "outputs": [
        {
          "output_type": "stream",
          "name": "stdout",
          "text": [
            "AUC :  1.0\n",
            "Accuracy : 1.0\n",
            "Precision :  1.0\n",
            "Recall :  1.0\n",
            "F1 :  1.0\n"
          ]
        }
      ]
    },
    {
      "cell_type": "code",
      "source": [
        "printmetrics(ytest,predtest)"
      ],
      "metadata": {
        "colab": {
          "base_uri": "https://localhost:8080/"
        },
        "id": "CwsDvH54fOm2",
        "outputId": "3e51a7f9-1e15-4a1c-ac14-e0c7790d7ae3"
      },
      "execution_count": 17,
      "outputs": [
        {
          "output_type": "stream",
          "name": "stdout",
          "text": [
            "AUC :  0.7423\n",
            "Accuracy : 0.8333\n",
            "Precision :  0.8305\n",
            "Recall :  0.9608\n",
            "F1 :  0.8909\n"
          ]
        }
      ]
    },
    {
      "cell_type": "code",
      "source": [
        "pd.Series(model.feature_importances_ , index=Xtrain.columns).sort_values(ascending=False)"
      ],
      "metadata": {
        "colab": {
          "base_uri": "https://localhost:8080/"
        },
        "id": "l1SphkmDfQNI",
        "outputId": "0039bca4-13a8-4fe5-db0a-29de642472f6"
      },
      "execution_count": 18,
      "outputs": [
        {
          "output_type": "execute_result",
          "data": {
            "text/plain": [
              "appinc        0.215631\n",
              "amnt          0.209175\n",
              "chistory      0.179781\n",
              "coappinc      0.128539\n",
              "proparea      0.061036\n",
              "term          0.058130\n",
              "dependents    0.058050\n",
              "married       0.026846\n",
              "edu           0.024502\n",
              "selfemp       0.019207\n",
              "gender        0.019103\n",
              "dtype: float64"
            ]
          },
          "metadata": {},
          "execution_count": 18
        }
      ]
    },
    {
      "cell_type": "code",
      "source": [
        "model=ensemble.RandomForestClassifier(random_state=42)\n",
        "pdict={'n_estimators':[4,5,6,7,8,9]}\n",
        "gridobj=model_selection.GridSearchCV(estimator=model,param_grid=pdict,scoring='precision',cv=5,return_train_score=True)\n",
        "gridobj.fit(Xtrain,ytrain)\n",
        "print(\"Best params :\",gridobj.best_params_)\n",
        "print(\"Best score :\",gridobj.best_score_)"
      ],
      "metadata": {
        "colab": {
          "base_uri": "https://localhost:8080/"
        },
        "id": "o11Sh_YDfRl1",
        "outputId": "0bb384bc-bf16-45cc-ee85-63556bc411ca"
      },
      "execution_count": 19,
      "outputs": [
        {
          "output_type": "stream",
          "name": "stdout",
          "text": [
            "Best params : {'n_estimators': 6}\n",
            "Best score : 0.807975865393939\n"
          ]
        }
      ]
    },
    {
      "cell_type": "code",
      "source": [
        "cvresults=pd.DataFrame(gridobj.cv_results_)"
      ],
      "metadata": {
        "id": "_nxDOrZyfTz-"
      },
      "execution_count": 20,
      "outputs": []
    },
    {
      "cell_type": "code",
      "source": [
        "cvresults[ ['params','mean_train_score','mean_test_score']]"
      ],
      "metadata": {
        "colab": {
          "base_uri": "https://localhost:8080/",
          "height": 238
        },
        "id": "dnwN8RJQfV8n",
        "outputId": "3756bbc9-6761-4536-e512-c43811604630"
      },
      "execution_count": 21,
      "outputs": [
        {
          "output_type": "execute_result",
          "data": {
            "text/plain": [
              "                params  mean_train_score  mean_test_score\n",
              "0  {'n_estimators': 4}          0.977243         0.801302\n",
              "1  {'n_estimators': 5}          0.959201         0.794771\n",
              "2  {'n_estimators': 6}          0.977660         0.807976\n",
              "3  {'n_estimators': 7}          0.968670         0.794261\n",
              "4  {'n_estimators': 8}          0.990158         0.804651\n",
              "5  {'n_estimators': 9}          0.980773         0.796649"
            ],
            "text/html": [
              "\n",
              "  <div id=\"df-054c7468-8ae5-45f8-a29f-3dbd11fd4a47\">\n",
              "    <div class=\"colab-df-container\">\n",
              "      <div>\n",
              "<style scoped>\n",
              "    .dataframe tbody tr th:only-of-type {\n",
              "        vertical-align: middle;\n",
              "    }\n",
              "\n",
              "    .dataframe tbody tr th {\n",
              "        vertical-align: top;\n",
              "    }\n",
              "\n",
              "    .dataframe thead th {\n",
              "        text-align: right;\n",
              "    }\n",
              "</style>\n",
              "<table border=\"1\" class=\"dataframe\">\n",
              "  <thead>\n",
              "    <tr style=\"text-align: right;\">\n",
              "      <th></th>\n",
              "      <th>params</th>\n",
              "      <th>mean_train_score</th>\n",
              "      <th>mean_test_score</th>\n",
              "    </tr>\n",
              "  </thead>\n",
              "  <tbody>\n",
              "    <tr>\n",
              "      <th>0</th>\n",
              "      <td>{'n_estimators': 4}</td>\n",
              "      <td>0.977243</td>\n",
              "      <td>0.801302</td>\n",
              "    </tr>\n",
              "    <tr>\n",
              "      <th>1</th>\n",
              "      <td>{'n_estimators': 5}</td>\n",
              "      <td>0.959201</td>\n",
              "      <td>0.794771</td>\n",
              "    </tr>\n",
              "    <tr>\n",
              "      <th>2</th>\n",
              "      <td>{'n_estimators': 6}</td>\n",
              "      <td>0.977660</td>\n",
              "      <td>0.807976</td>\n",
              "    </tr>\n",
              "    <tr>\n",
              "      <th>3</th>\n",
              "      <td>{'n_estimators': 7}</td>\n",
              "      <td>0.968670</td>\n",
              "      <td>0.794261</td>\n",
              "    </tr>\n",
              "    <tr>\n",
              "      <th>4</th>\n",
              "      <td>{'n_estimators': 8}</td>\n",
              "      <td>0.990158</td>\n",
              "      <td>0.804651</td>\n",
              "    </tr>\n",
              "    <tr>\n",
              "      <th>5</th>\n",
              "      <td>{'n_estimators': 9}</td>\n",
              "      <td>0.980773</td>\n",
              "      <td>0.796649</td>\n",
              "    </tr>\n",
              "  </tbody>\n",
              "</table>\n",
              "</div>\n",
              "      <button class=\"colab-df-convert\" onclick=\"convertToInteractive('df-054c7468-8ae5-45f8-a29f-3dbd11fd4a47')\"\n",
              "              title=\"Convert this dataframe to an interactive table.\"\n",
              "              style=\"display:none;\">\n",
              "        \n",
              "  <svg xmlns=\"http://www.w3.org/2000/svg\" height=\"24px\"viewBox=\"0 0 24 24\"\n",
              "       width=\"24px\">\n",
              "    <path d=\"M0 0h24v24H0V0z\" fill=\"none\"/>\n",
              "    <path d=\"M18.56 5.44l.94 2.06.94-2.06 2.06-.94-2.06-.94-.94-2.06-.94 2.06-2.06.94zm-11 1L8.5 8.5l.94-2.06 2.06-.94-2.06-.94L8.5 2.5l-.94 2.06-2.06.94zm10 10l.94 2.06.94-2.06 2.06-.94-2.06-.94-.94-2.06-.94 2.06-2.06.94z\"/><path d=\"M17.41 7.96l-1.37-1.37c-.4-.4-.92-.59-1.43-.59-.52 0-1.04.2-1.43.59L10.3 9.45l-7.72 7.72c-.78.78-.78 2.05 0 2.83L4 21.41c.39.39.9.59 1.41.59.51 0 1.02-.2 1.41-.59l7.78-7.78 2.81-2.81c.8-.78.8-2.07 0-2.86zM5.41 20L4 18.59l7.72-7.72 1.47 1.35L5.41 20z\"/>\n",
              "  </svg>\n",
              "      </button>\n",
              "      \n",
              "  <style>\n",
              "    .colab-df-container {\n",
              "      display:flex;\n",
              "      flex-wrap:wrap;\n",
              "      gap: 12px;\n",
              "    }\n",
              "\n",
              "    .colab-df-convert {\n",
              "      background-color: #E8F0FE;\n",
              "      border: none;\n",
              "      border-radius: 50%;\n",
              "      cursor: pointer;\n",
              "      display: none;\n",
              "      fill: #1967D2;\n",
              "      height: 32px;\n",
              "      padding: 0 0 0 0;\n",
              "      width: 32px;\n",
              "    }\n",
              "\n",
              "    .colab-df-convert:hover {\n",
              "      background-color: #E2EBFA;\n",
              "      box-shadow: 0px 1px 2px rgba(60, 64, 67, 0.3), 0px 1px 3px 1px rgba(60, 64, 67, 0.15);\n",
              "      fill: #174EA6;\n",
              "    }\n",
              "\n",
              "    [theme=dark] .colab-df-convert {\n",
              "      background-color: #3B4455;\n",
              "      fill: #D2E3FC;\n",
              "    }\n",
              "\n",
              "    [theme=dark] .colab-df-convert:hover {\n",
              "      background-color: #434B5C;\n",
              "      box-shadow: 0px 1px 3px 1px rgba(0, 0, 0, 0.15);\n",
              "      filter: drop-shadow(0px 1px 2px rgba(0, 0, 0, 0.3));\n",
              "      fill: #FFFFFF;\n",
              "    }\n",
              "  </style>\n",
              "\n",
              "      <script>\n",
              "        const buttonEl =\n",
              "          document.querySelector('#df-054c7468-8ae5-45f8-a29f-3dbd11fd4a47 button.colab-df-convert');\n",
              "        buttonEl.style.display =\n",
              "          google.colab.kernel.accessAllowed ? 'block' : 'none';\n",
              "\n",
              "        async function convertToInteractive(key) {\n",
              "          const element = document.querySelector('#df-054c7468-8ae5-45f8-a29f-3dbd11fd4a47');\n",
              "          const dataTable =\n",
              "            await google.colab.kernel.invokeFunction('convertToInteractive',\n",
              "                                                     [key], {});\n",
              "          if (!dataTable) return;\n",
              "\n",
              "          const docLinkHtml = 'Like what you see? Visit the ' +\n",
              "            '<a target=\"_blank\" href=https://colab.research.google.com/notebooks/data_table.ipynb>data table notebook</a>'\n",
              "            + ' to learn more about interactive tables.';\n",
              "          element.innerHTML = '';\n",
              "          dataTable['output_type'] = 'display_data';\n",
              "          await google.colab.output.renderOutput(dataTable, element);\n",
              "          const docLink = document.createElement('div');\n",
              "          docLink.innerHTML = docLinkHtml;\n",
              "          element.appendChild(docLink);\n",
              "        }\n",
              "      </script>\n",
              "    </div>\n",
              "  </div>\n",
              "  "
            ]
          },
          "metadata": {},
          "execution_count": 21
        }
      ]
    },
    {
      "cell_type": "code",
      "source": [
        "model=ensemble.RandomForestClassifier(random_state=42)\n",
        "pdict={'n_estimators':[4,5,6,7,8,9],'max_features':[1,2,3,4]}\n",
        "gridobj=model_selection.GridSearchCV(estimator=model,param_grid=pdict,scoring='precision',cv=5,return_train_score=True)\n",
        "gridobj.fit(Xtrain,ytrain)\n",
        "print(\"Best params :\",gridobj.best_params_)\n",
        "print(\"Best score :\",gridobj.best_score_)\n",
        "cvresults=pd.DataFrame(gridobj.cv_results_)\n",
        "print(cvresults[ ['params','mean_train_score','mean_test_score']])"
      ],
      "metadata": {
        "colab": {
          "base_uri": "https://localhost:8080/"
        },
        "id": "QZjrVcTZfXAm",
        "outputId": "f3bbefcc-2119-463a-b876-435046907094"
      },
      "execution_count": 22,
      "outputs": [
        {
          "output_type": "stream",
          "name": "stdout",
          "text": [
            "Best params : {'max_features': 4, 'n_estimators': 4}\n",
            "Best score : 0.8192150635208713\n",
            "                                    params  mean_train_score  mean_test_score\n",
            "0   {'max_features': 1, 'n_estimators': 4}          0.976990         0.803836\n",
            "1   {'max_features': 1, 'n_estimators': 5}          0.960890         0.783250\n",
            "2   {'max_features': 1, 'n_estimators': 6}          0.980308         0.808038\n",
            "3   {'max_features': 1, 'n_estimators': 7}          0.966291         0.783002\n",
            "4   {'max_features': 1, 'n_estimators': 8}          0.990190         0.806956\n",
            "5   {'max_features': 1, 'n_estimators': 9}          0.975620         0.783213\n",
            "6   {'max_features': 2, 'n_estimators': 4}          0.972510         0.798151\n",
            "7   {'max_features': 2, 'n_estimators': 5}          0.954691         0.790943\n",
            "8   {'max_features': 2, 'n_estimators': 6}          0.976662         0.792703\n",
            "9   {'max_features': 2, 'n_estimators': 7}          0.967701         0.774519\n",
            "10  {'max_features': 2, 'n_estimators': 8}          0.984907         0.789287\n",
            "11  {'max_features': 2, 'n_estimators': 9}          0.978196         0.787842\n",
            "12  {'max_features': 3, 'n_estimators': 4}          0.977243         0.801302\n",
            "13  {'max_features': 3, 'n_estimators': 5}          0.959201         0.794771\n",
            "14  {'max_features': 3, 'n_estimators': 6}          0.977660         0.807976\n",
            "15  {'max_features': 3, 'n_estimators': 7}          0.968670         0.794261\n",
            "16  {'max_features': 3, 'n_estimators': 8}          0.990158         0.804651\n",
            "17  {'max_features': 3, 'n_estimators': 9}          0.980773         0.796649\n",
            "18  {'max_features': 4, 'n_estimators': 4}          0.974530         0.819215\n",
            "19  {'max_features': 4, 'n_estimators': 5}          0.955854         0.812946\n",
            "20  {'max_features': 4, 'n_estimators': 6}          0.975045         0.815543\n",
            "21  {'max_features': 4, 'n_estimators': 7}          0.965342         0.806810\n",
            "22  {'max_features': 4, 'n_estimators': 8}          0.984042         0.816957\n",
            "23  {'max_features': 4, 'n_estimators': 9}          0.973172         0.803034\n"
          ]
        }
      ]
    },
    {
      "cell_type": "code",
      "source": [
        "model=ensemble.RandomForestClassifier(random_state=42,max_features=4,n_estimators=4)\n",
        "\n",
        "rfeobj=feature_selection.RFE(estimator=model,n_features_to_select=5)\n",
        "# feature selection using decision tree\n",
        "\n",
        "rfeobj.fit(Xtrain,ytrain)"
      ],
      "metadata": {
        "colab": {
          "base_uri": "https://localhost:8080/"
        },
        "id": "neztVG1mfYGC",
        "outputId": "6a94fc11-1c84-48be-82af-eb429a2986f3"
      },
      "execution_count": 23,
      "outputs": [
        {
          "output_type": "execute_result",
          "data": {
            "text/plain": [
              "RFE(estimator=RandomForestClassifier(max_features=4, n_estimators=4,\n",
              "                                     random_state=42),\n",
              "    n_features_to_select=5)"
            ]
          },
          "metadata": {},
          "execution_count": 23
        }
      ]
    },
    {
      "cell_type": "code",
      "source": [
        "rfeobj.fit(Xtrain,ytrain)"
      ],
      "metadata": {
        "colab": {
          "base_uri": "https://localhost:8080/"
        },
        "id": "MwEGP2TEfZPA",
        "outputId": "dc5ee9f6-2ddf-4949-bda1-3839ea7261af"
      },
      "execution_count": 24,
      "outputs": [
        {
          "output_type": "execute_result",
          "data": {
            "text/plain": [
              "RFE(estimator=RandomForestClassifier(max_features=4, n_estimators=4,\n",
              "                                     random_state=42),\n",
              "    n_features_to_select=5)"
            ]
          },
          "metadata": {},
          "execution_count": 24
        }
      ]
    },
    {
      "cell_type": "code",
      "source": [
        "Xtrain.columns[rfeobj.support_]"
      ],
      "metadata": {
        "colab": {
          "base_uri": "https://localhost:8080/"
        },
        "id": "cSp2dExafaoM",
        "outputId": "d1dbc78c-85cd-4b0b-9d92-003fe72bd102"
      },
      "execution_count": 25,
      "outputs": [
        {
          "output_type": "execute_result",
          "data": {
            "text/plain": [
              "Index(['appinc', 'coappinc', 'amnt', 'term', 'chistory'], dtype='object')"
            ]
          },
          "metadata": {},
          "execution_count": 25
        }
      ]
    },
    {
      "cell_type": "code",
      "source": [
        "model=ensemble.RandomForestClassifier(random_state=42,max_features=4,n_estimators=4)\n",
        "rfemodel=feature_selection.RFE(estimator=model) # n_features_to_select : best value to find using GridSearchCV\n",
        "pdict={'n_features_to_select':[1,2,3,4,5,6]} # a dictionary , key ->hyperparameter name , value-> list\n",
        "gridobj=model_selection.GridSearchCV(estimator=rfemodel,param_grid=pdict,cv=5,scoring='precision',n_jobs=-1,return_train_score=True)\n",
        "gridobj.fit(Xtrain,ytrain)\n",
        "print(\"Best params :\",gridobj.best_params_)\n",
        "cvresults=pd.DataFrame(gridobj.cv_results_)\n",
        "print(cvresults[ ['params','mean_train_score','mean_test_score']])\n",
        "\n",
        "\n"
      ],
      "metadata": {
        "colab": {
          "base_uri": "https://localhost:8080/"
        },
        "id": "rbLjhwQyfcC8",
        "outputId": "fcc58b5b-6c2e-4a17-84c5-66673623ded8"
      },
      "execution_count": 26,
      "outputs": [
        {
          "output_type": "stream",
          "name": "stdout",
          "text": [
            "Best params : {'n_features_to_select': 6}\n",
            "                        params  mean_train_score  mean_test_score\n",
            "0  {'n_features_to_select': 1}               NaN              NaN\n",
            "1  {'n_features_to_select': 2}               NaN              NaN\n",
            "2  {'n_features_to_select': 3}               NaN              NaN\n",
            "3  {'n_features_to_select': 4}          0.972370         0.797612\n",
            "4  {'n_features_to_select': 5}          0.973501         0.802661\n",
            "5  {'n_features_to_select': 6}          0.971976         0.817040\n"
          ]
        }
      ]
    },
    {
      "cell_type": "code",
      "source": [
        "df[:10]"
      ],
      "metadata": {
        "colab": {
          "base_uri": "https://localhost:8080/",
          "height": 462
        },
        "id": "aQl9EwXpfdF_",
        "outputId": "35e2886b-de63-43b6-b484-3970f3dc9c24"
      },
      "execution_count": 27,
      "outputs": [
        {
          "output_type": "execute_result",
          "data": {
            "text/plain": [
              "   gender married dependents           edu selfemp  appinc  coappinc   amnt  \\\n",
              "1    Male     Yes          1      Graduate      No    4583    1508.0  128.0   \n",
              "2    Male     Yes          0      Graduate     Yes    3000       0.0   66.0   \n",
              "3    Male     Yes          0  Not Graduate      No    2583    2358.0  120.0   \n",
              "4    Male      No          0      Graduate      No    6000       0.0  141.0   \n",
              "5    Male     Yes          2      Graduate     Yes    5417    4196.0  267.0   \n",
              "6    Male     Yes          0  Not Graduate      No    2333    1516.0   95.0   \n",
              "7    Male     Yes         3+      Graduate      No    3036    2504.0  158.0   \n",
              "8    Male     Yes          2      Graduate      No    4006    1526.0  168.0   \n",
              "9    Male     Yes          1      Graduate      No   12841   10968.0  349.0   \n",
              "10   Male     Yes          2      Graduate      No    3200     700.0   70.0   \n",
              "\n",
              "     term  chistory   proparea  status  \n",
              "1   360.0       1.0      Rural       0  \n",
              "2   360.0       1.0      Urban       1  \n",
              "3   360.0       1.0      Urban       1  \n",
              "4   360.0       1.0      Urban       1  \n",
              "5   360.0       1.0      Urban       1  \n",
              "6   360.0       1.0      Urban       1  \n",
              "7   360.0       0.0  Semiurban       0  \n",
              "8   360.0       1.0      Urban       1  \n",
              "9   360.0       1.0  Semiurban       0  \n",
              "10  360.0       1.0      Urban       1  "
            ],
            "text/html": [
              "\n",
              "  <div id=\"df-9aee3d47-4164-4d80-8e7c-709d54b0ff3f\">\n",
              "    <div class=\"colab-df-container\">\n",
              "      <div>\n",
              "<style scoped>\n",
              "    .dataframe tbody tr th:only-of-type {\n",
              "        vertical-align: middle;\n",
              "    }\n",
              "\n",
              "    .dataframe tbody tr th {\n",
              "        vertical-align: top;\n",
              "    }\n",
              "\n",
              "    .dataframe thead th {\n",
              "        text-align: right;\n",
              "    }\n",
              "</style>\n",
              "<table border=\"1\" class=\"dataframe\">\n",
              "  <thead>\n",
              "    <tr style=\"text-align: right;\">\n",
              "      <th></th>\n",
              "      <th>gender</th>\n",
              "      <th>married</th>\n",
              "      <th>dependents</th>\n",
              "      <th>edu</th>\n",
              "      <th>selfemp</th>\n",
              "      <th>appinc</th>\n",
              "      <th>coappinc</th>\n",
              "      <th>amnt</th>\n",
              "      <th>term</th>\n",
              "      <th>chistory</th>\n",
              "      <th>proparea</th>\n",
              "      <th>status</th>\n",
              "    </tr>\n",
              "  </thead>\n",
              "  <tbody>\n",
              "    <tr>\n",
              "      <th>1</th>\n",
              "      <td>Male</td>\n",
              "      <td>Yes</td>\n",
              "      <td>1</td>\n",
              "      <td>Graduate</td>\n",
              "      <td>No</td>\n",
              "      <td>4583</td>\n",
              "      <td>1508.0</td>\n",
              "      <td>128.0</td>\n",
              "      <td>360.0</td>\n",
              "      <td>1.0</td>\n",
              "      <td>Rural</td>\n",
              "      <td>0</td>\n",
              "    </tr>\n",
              "    <tr>\n",
              "      <th>2</th>\n",
              "      <td>Male</td>\n",
              "      <td>Yes</td>\n",
              "      <td>0</td>\n",
              "      <td>Graduate</td>\n",
              "      <td>Yes</td>\n",
              "      <td>3000</td>\n",
              "      <td>0.0</td>\n",
              "      <td>66.0</td>\n",
              "      <td>360.0</td>\n",
              "      <td>1.0</td>\n",
              "      <td>Urban</td>\n",
              "      <td>1</td>\n",
              "    </tr>\n",
              "    <tr>\n",
              "      <th>3</th>\n",
              "      <td>Male</td>\n",
              "      <td>Yes</td>\n",
              "      <td>0</td>\n",
              "      <td>Not Graduate</td>\n",
              "      <td>No</td>\n",
              "      <td>2583</td>\n",
              "      <td>2358.0</td>\n",
              "      <td>120.0</td>\n",
              "      <td>360.0</td>\n",
              "      <td>1.0</td>\n",
              "      <td>Urban</td>\n",
              "      <td>1</td>\n",
              "    </tr>\n",
              "    <tr>\n",
              "      <th>4</th>\n",
              "      <td>Male</td>\n",
              "      <td>No</td>\n",
              "      <td>0</td>\n",
              "      <td>Graduate</td>\n",
              "      <td>No</td>\n",
              "      <td>6000</td>\n",
              "      <td>0.0</td>\n",
              "      <td>141.0</td>\n",
              "      <td>360.0</td>\n",
              "      <td>1.0</td>\n",
              "      <td>Urban</td>\n",
              "      <td>1</td>\n",
              "    </tr>\n",
              "    <tr>\n",
              "      <th>5</th>\n",
              "      <td>Male</td>\n",
              "      <td>Yes</td>\n",
              "      <td>2</td>\n",
              "      <td>Graduate</td>\n",
              "      <td>Yes</td>\n",
              "      <td>5417</td>\n",
              "      <td>4196.0</td>\n",
              "      <td>267.0</td>\n",
              "      <td>360.0</td>\n",
              "      <td>1.0</td>\n",
              "      <td>Urban</td>\n",
              "      <td>1</td>\n",
              "    </tr>\n",
              "    <tr>\n",
              "      <th>6</th>\n",
              "      <td>Male</td>\n",
              "      <td>Yes</td>\n",
              "      <td>0</td>\n",
              "      <td>Not Graduate</td>\n",
              "      <td>No</td>\n",
              "      <td>2333</td>\n",
              "      <td>1516.0</td>\n",
              "      <td>95.0</td>\n",
              "      <td>360.0</td>\n",
              "      <td>1.0</td>\n",
              "      <td>Urban</td>\n",
              "      <td>1</td>\n",
              "    </tr>\n",
              "    <tr>\n",
              "      <th>7</th>\n",
              "      <td>Male</td>\n",
              "      <td>Yes</td>\n",
              "      <td>3+</td>\n",
              "      <td>Graduate</td>\n",
              "      <td>No</td>\n",
              "      <td>3036</td>\n",
              "      <td>2504.0</td>\n",
              "      <td>158.0</td>\n",
              "      <td>360.0</td>\n",
              "      <td>0.0</td>\n",
              "      <td>Semiurban</td>\n",
              "      <td>0</td>\n",
              "    </tr>\n",
              "    <tr>\n",
              "      <th>8</th>\n",
              "      <td>Male</td>\n",
              "      <td>Yes</td>\n",
              "      <td>2</td>\n",
              "      <td>Graduate</td>\n",
              "      <td>No</td>\n",
              "      <td>4006</td>\n",
              "      <td>1526.0</td>\n",
              "      <td>168.0</td>\n",
              "      <td>360.0</td>\n",
              "      <td>1.0</td>\n",
              "      <td>Urban</td>\n",
              "      <td>1</td>\n",
              "    </tr>\n",
              "    <tr>\n",
              "      <th>9</th>\n",
              "      <td>Male</td>\n",
              "      <td>Yes</td>\n",
              "      <td>1</td>\n",
              "      <td>Graduate</td>\n",
              "      <td>No</td>\n",
              "      <td>12841</td>\n",
              "      <td>10968.0</td>\n",
              "      <td>349.0</td>\n",
              "      <td>360.0</td>\n",
              "      <td>1.0</td>\n",
              "      <td>Semiurban</td>\n",
              "      <td>0</td>\n",
              "    </tr>\n",
              "    <tr>\n",
              "      <th>10</th>\n",
              "      <td>Male</td>\n",
              "      <td>Yes</td>\n",
              "      <td>2</td>\n",
              "      <td>Graduate</td>\n",
              "      <td>No</td>\n",
              "      <td>3200</td>\n",
              "      <td>700.0</td>\n",
              "      <td>70.0</td>\n",
              "      <td>360.0</td>\n",
              "      <td>1.0</td>\n",
              "      <td>Urban</td>\n",
              "      <td>1</td>\n",
              "    </tr>\n",
              "  </tbody>\n",
              "</table>\n",
              "</div>\n",
              "      <button class=\"colab-df-convert\" onclick=\"convertToInteractive('df-9aee3d47-4164-4d80-8e7c-709d54b0ff3f')\"\n",
              "              title=\"Convert this dataframe to an interactive table.\"\n",
              "              style=\"display:none;\">\n",
              "        \n",
              "  <svg xmlns=\"http://www.w3.org/2000/svg\" height=\"24px\"viewBox=\"0 0 24 24\"\n",
              "       width=\"24px\">\n",
              "    <path d=\"M0 0h24v24H0V0z\" fill=\"none\"/>\n",
              "    <path d=\"M18.56 5.44l.94 2.06.94-2.06 2.06-.94-2.06-.94-.94-2.06-.94 2.06-2.06.94zm-11 1L8.5 8.5l.94-2.06 2.06-.94-2.06-.94L8.5 2.5l-.94 2.06-2.06.94zm10 10l.94 2.06.94-2.06 2.06-.94-2.06-.94-.94-2.06-.94 2.06-2.06.94z\"/><path d=\"M17.41 7.96l-1.37-1.37c-.4-.4-.92-.59-1.43-.59-.52 0-1.04.2-1.43.59L10.3 9.45l-7.72 7.72c-.78.78-.78 2.05 0 2.83L4 21.41c.39.39.9.59 1.41.59.51 0 1.02-.2 1.41-.59l7.78-7.78 2.81-2.81c.8-.78.8-2.07 0-2.86zM5.41 20L4 18.59l7.72-7.72 1.47 1.35L5.41 20z\"/>\n",
              "  </svg>\n",
              "      </button>\n",
              "      \n",
              "  <style>\n",
              "    .colab-df-container {\n",
              "      display:flex;\n",
              "      flex-wrap:wrap;\n",
              "      gap: 12px;\n",
              "    }\n",
              "\n",
              "    .colab-df-convert {\n",
              "      background-color: #E8F0FE;\n",
              "      border: none;\n",
              "      border-radius: 50%;\n",
              "      cursor: pointer;\n",
              "      display: none;\n",
              "      fill: #1967D2;\n",
              "      height: 32px;\n",
              "      padding: 0 0 0 0;\n",
              "      width: 32px;\n",
              "    }\n",
              "\n",
              "    .colab-df-convert:hover {\n",
              "      background-color: #E2EBFA;\n",
              "      box-shadow: 0px 1px 2px rgba(60, 64, 67, 0.3), 0px 1px 3px 1px rgba(60, 64, 67, 0.15);\n",
              "      fill: #174EA6;\n",
              "    }\n",
              "\n",
              "    [theme=dark] .colab-df-convert {\n",
              "      background-color: #3B4455;\n",
              "      fill: #D2E3FC;\n",
              "    }\n",
              "\n",
              "    [theme=dark] .colab-df-convert:hover {\n",
              "      background-color: #434B5C;\n",
              "      box-shadow: 0px 1px 3px 1px rgba(0, 0, 0, 0.15);\n",
              "      filter: drop-shadow(0px 1px 2px rgba(0, 0, 0, 0.3));\n",
              "      fill: #FFFFFF;\n",
              "    }\n",
              "  </style>\n",
              "\n",
              "      <script>\n",
              "        const buttonEl =\n",
              "          document.querySelector('#df-9aee3d47-4164-4d80-8e7c-709d54b0ff3f button.colab-df-convert');\n",
              "        buttonEl.style.display =\n",
              "          google.colab.kernel.accessAllowed ? 'block' : 'none';\n",
              "\n",
              "        async function convertToInteractive(key) {\n",
              "          const element = document.querySelector('#df-9aee3d47-4164-4d80-8e7c-709d54b0ff3f');\n",
              "          const dataTable =\n",
              "            await google.colab.kernel.invokeFunction('convertToInteractive',\n",
              "                                                     [key], {});\n",
              "          if (!dataTable) return;\n",
              "\n",
              "          const docLinkHtml = 'Like what you see? Visit the ' +\n",
              "            '<a target=\"_blank\" href=https://colab.research.google.com/notebooks/data_table.ipynb>data table notebook</a>'\n",
              "            + ' to learn more about interactive tables.';\n",
              "          element.innerHTML = '';\n",
              "          dataTable['output_type'] = 'display_data';\n",
              "          await google.colab.output.renderOutput(dataTable, element);\n",
              "          const docLink = document.createElement('div');\n",
              "          docLink.innerHTML = docLinkHtml;\n",
              "          element.appendChild(docLink);\n",
              "        }\n",
              "      </script>\n",
              "    </div>\n",
              "  </div>\n",
              "  "
            ]
          },
          "metadata": {},
          "execution_count": 27
        }
      ]
    },
    {
      "cell_type": "code",
      "source": [
        ""
      ],
      "metadata": {
        "id": "M-hAFfAIfeBS"
      },
      "execution_count": null,
      "outputs": []
    }
  ]
}